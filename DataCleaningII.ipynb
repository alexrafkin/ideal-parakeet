{
  "nbformat": 4,
  "nbformat_minor": 0,
  "metadata": {
    "colab": {
      "name": "DataCleaningII.ipynb",
      "provenance": [],
      "authorship_tag": "ABX9TyMIPwjiF1eCmh3WNLiEJtMn",
      "include_colab_link": true
    },
    "kernelspec": {
      "name": "python3",
      "display_name": "Python 3"
    }
  },
  "cells": [
    {
      "cell_type": "markdown",
      "metadata": {
        "id": "view-in-github",
        "colab_type": "text"
      },
      "source": [
        "<a href=\"https://colab.research.google.com/github/alexrafkin/ideal-parakeet/blob/main/DataCleaningII.ipynb\" target=\"_parent\"><img src=\"https://colab.research.google.com/assets/colab-badge.svg\" alt=\"Open In Colab\"/></a>"
      ]
    },
    {
      "cell_type": "code",
      "metadata": {
        "id": "BPTR65F6Y3hn"
      },
      "source": [
        "import pandas as pd\n",
        "import numpy as np\n",
        "from sqlalchemy import create_engine\n",
        "import warnings\n",
        "\n",
        "warnings.filterwarnings('ignore')"
      ],
      "execution_count": null,
      "outputs": []
    },
    {
      "cell_type": "code",
      "metadata": {
        "id": "cAjQtOx6Y_A-"
      },
      "source": [
        "postgres_user = 'dsbc_student'\n",
        "postgres_pw = '7*.8G9QH21'\n",
        "postgres_host = '142.93.121.174'\n",
        "postgres_port = '5432'\n",
        "postgres_db = 'useducation'\n",
        "\n",
        "engine = create_engine('postgresql://{}:{}@{}:{}/{}'.format(\n",
        "    postgres_user, postgres_pw, postgres_host, postgres_port, postgres_db))\n",
        "\n",
        "useducation_df = pd.read_sql_query('select * from useducation',con=engine)\n",
        "engine.dispose()"
      ],
      "execution_count": null,
      "outputs": []
    },
    {
      "cell_type": "markdown",
      "metadata": {
        "id": "jrnvwnimc7EX"
      },
      "source": [
        "1. Determine all the variable types and find the fraction of the missing values for each variable."
      ]
    },
    {
      "cell_type": "code",
      "metadata": {
        "colab": {
          "base_uri": "https://localhost:8080/"
        },
        "id": "JuGq6m6CZOP4",
        "outputId": "502e7800-7877-47c9-c5ae-5113e2cf4172"
      },
      "source": [
        "useducation_df.info()"
      ],
      "execution_count": null,
      "outputs": [
        {
          "output_type": "stream",
          "text": [
            "<class 'pandas.core.frame.DataFrame'>\n",
            "RangeIndex: 1492 entries, 0 to 1491\n",
            "Data columns (total 25 columns):\n",
            " #   Column                        Non-Null Count  Dtype  \n",
            "---  ------                        --------------  -----  \n",
            " 0   PRIMARY_KEY                   1492 non-null   object \n",
            " 1   STATE                         1492 non-null   object \n",
            " 2   YEAR                          1492 non-null   int64  \n",
            " 3   ENROLL                        1229 non-null   float64\n",
            " 4   TOTAL_REVENUE                 1280 non-null   float64\n",
            " 5   FEDERAL_REVENUE               1280 non-null   float64\n",
            " 6   STATE_REVENUE                 1280 non-null   float64\n",
            " 7   LOCAL_REVENUE                 1280 non-null   float64\n",
            " 8   TOTAL_EXPENDITURE             1280 non-null   float64\n",
            " 9   INSTRUCTION_EXPENDITURE       1280 non-null   float64\n",
            " 10  SUPPORT_SERVICES_EXPENDITURE  1280 non-null   float64\n",
            " 11  OTHER_EXPENDITURE             1229 non-null   float64\n",
            " 12  CAPITAL_OUTLAY_EXPENDITURE    1280 non-null   float64\n",
            " 13  GRADES_PK_G                   1319 non-null   float64\n",
            " 14  GRADES_KG_G                   1360 non-null   float64\n",
            " 15  GRADES_4_G                    1361 non-null   float64\n",
            " 16  GRADES_8_G                    1361 non-null   float64\n",
            " 17  GRADES_12_G                   1361 non-null   float64\n",
            " 18  GRADES_1_8_G                  1361 non-null   float64\n",
            " 19  GRADES_9_12_G                 1361 non-null   float64\n",
            " 20  GRADES_ALL_G                  1319 non-null   float64\n",
            " 21  AVG_MATH_4_SCORE              536 non-null    float64\n",
            " 22  AVG_MATH_8_SCORE              532 non-null    float64\n",
            " 23  AVG_READING_4_SCORE           533 non-null    float64\n",
            " 24  AVG_READING_8_SCORE           498 non-null    float64\n",
            "dtypes: float64(22), int64(1), object(2)\n",
            "memory usage: 291.5+ KB\n"
          ],
          "name": "stdout"
        }
      ]
    },
    {
      "cell_type": "code",
      "metadata": {
        "colab": {
          "base_uri": "https://localhost:8080/"
        },
        "id": "E2MpMj_UaY2q",
        "outputId": "0b4d9d51-725c-4266-ca30-e7846b09cd1c"
      },
      "source": [
        "useducation_df.isnull().sum()*100/useducation_df.isnull().count()"
      ],
      "execution_count": null,
      "outputs": [
        {
          "output_type": "execute_result",
          "data": {
            "text/plain": [
              "PRIMARY_KEY                      0.000000\n",
              "STATE                            0.000000\n",
              "YEAR                             0.000000\n",
              "ENROLL                          17.627346\n",
              "TOTAL_REVENUE                   14.209115\n",
              "FEDERAL_REVENUE                 14.209115\n",
              "STATE_REVENUE                   14.209115\n",
              "LOCAL_REVENUE                   14.209115\n",
              "TOTAL_EXPENDITURE               14.209115\n",
              "INSTRUCTION_EXPENDITURE         14.209115\n",
              "SUPPORT_SERVICES_EXPENDITURE    14.209115\n",
              "OTHER_EXPENDITURE               17.627346\n",
              "CAPITAL_OUTLAY_EXPENDITURE      14.209115\n",
              "GRADES_PK_G                     11.595174\n",
              "GRADES_KG_G                      8.847185\n",
              "GRADES_4_G                       8.780161\n",
              "GRADES_8_G                       8.780161\n",
              "GRADES_12_G                      8.780161\n",
              "GRADES_1_8_G                     8.780161\n",
              "GRADES_9_12_G                    8.780161\n",
              "GRADES_ALL_G                    11.595174\n",
              "AVG_MATH_4_SCORE                64.075067\n",
              "AVG_MATH_8_SCORE                64.343164\n",
              "AVG_READING_4_SCORE             64.276139\n",
              "AVG_READING_8_SCORE             66.621984\n",
              "dtype: float64"
            ]
          },
          "metadata": {
            "tags": []
          },
          "execution_count": 4
        }
      ]
    },
    {
      "cell_type": "markdown",
      "metadata": {
        "id": "pCjM3xfidDIh"
      },
      "source": [
        "2. Notice that the data has a time dimension (year). For this assignment, forget about time and treat all the observations as if they're from the same year. Choose a strategy to deal with the missing values for each variable. For which variables would filling in the missing values with some value make sense? For which might tossing out the records entirely make sense?"
      ]
    },
    {
      "cell_type": "code",
      "metadata": {
        "id": "23PflnW2a2_w"
      },
      "source": [
        "edcopy = useducation_df.copy()"
      ],
      "execution_count": null,
      "outputs": []
    },
    {
      "cell_type": "markdown",
      "metadata": {
        "id": "iiVrD3yqdqxo"
      },
      "source": [
        "Ideally, I'd want to replace the null values for the averages per state, since most of these values differ greatly between states. But for simplicity sake you can fill all float variables with the mean. The last four variables, however, have too many missing valuables for me to feel confident using the mean."
      ]
    },
    {
      "cell_type": "code",
      "metadata": {
        "id": "1lQFDiuHdgDK"
      },
      "source": [
        "fill_variables = [\"ENROLL\", \"TOTAL_REVENUE\", \"FEDERAL_REVENUE\", \"STATE_REVENUE\", \"LOCAL_REVENUE\", \"TOTAL_EXPENDITURE\", \"INSTRUCTION_EXPENDITURE\", \"SUPPORT_SERVICES_EXPENDITURE\", \"OTHER_EXPENDITURE\", \"CAPITAL_OUTLAY_EXPENDITURE\", \"GRADES_PK_G\", \"GRADES_KG_G\", \"GRADES_4_G\", \"GRADES_8_G\", \"GRADES_12_G\", \"GRADES_1_8_G\", \"GRADES_9_12_G\", \"GRADES_ALL_G\"]\n",
        "\n",
        "for var in fill_variables:\n",
        "  edcopy.loc[:, var] = edcopy.loc[:, var].fillna(edcopy.loc[:, var].mean())"
      ],
      "execution_count": null,
      "outputs": []
    },
    {
      "cell_type": "code",
      "metadata": {
        "colab": {
          "base_uri": "https://localhost:8080/"
        },
        "id": "62_dy2ibepgJ",
        "outputId": "ef99ed4e-4763-41bd-d454-63754e838083"
      },
      "source": [
        "edcopy.isnull().sum()*100/edcopy.isnull().count()"
      ],
      "execution_count": null,
      "outputs": [
        {
          "output_type": "execute_result",
          "data": {
            "text/plain": [
              "PRIMARY_KEY                      0.000000\n",
              "STATE                            0.000000\n",
              "YEAR                             0.000000\n",
              "ENROLL                           0.000000\n",
              "TOTAL_REVENUE                    0.000000\n",
              "FEDERAL_REVENUE                  0.000000\n",
              "STATE_REVENUE                    0.000000\n",
              "LOCAL_REVENUE                    0.000000\n",
              "TOTAL_EXPENDITURE                0.000000\n",
              "INSTRUCTION_EXPENDITURE          0.000000\n",
              "SUPPORT_SERVICES_EXPENDITURE     0.000000\n",
              "OTHER_EXPENDITURE                0.000000\n",
              "CAPITAL_OUTLAY_EXPENDITURE       0.000000\n",
              "GRADES_PK_G                      0.000000\n",
              "GRADES_KG_G                      0.000000\n",
              "GRADES_4_G                       0.000000\n",
              "GRADES_8_G                       0.000000\n",
              "GRADES_12_G                      0.000000\n",
              "GRADES_1_8_G                     0.000000\n",
              "GRADES_9_12_G                    0.000000\n",
              "GRADES_ALL_G                     0.000000\n",
              "AVG_MATH_4_SCORE                64.075067\n",
              "AVG_MATH_8_SCORE                64.343164\n",
              "AVG_READING_4_SCORE             64.276139\n",
              "AVG_READING_8_SCORE             66.621984\n",
              "dtype: float64"
            ]
          },
          "metadata": {
            "tags": []
          },
          "execution_count": 7
        }
      ]
    },
    {
      "cell_type": "markdown",
      "metadata": {
        "id": "wIAQkFK6fHv0"
      },
      "source": [
        "3. Now, take into account the time factor. Replicate your second answer, but this time, fill in the missing values by using a statistic that is calculated within the year of the observation. For example, if you want to fill in a missing value for a variable with the mean of that variable, calculate the mean by using only the observations for that specific year."
      ]
    },
    {
      "cell_type": "code",
      "metadata": {
        "id": "sU4jvPspgMca"
      },
      "source": [
        "edcopy2 = useducation_df.copy()"
      ],
      "execution_count": null,
      "outputs": []
    },
    {
      "cell_type": "code",
      "metadata": {
        "id": "nb00O9wmgrGh"
      },
      "source": [
        "yr_avgs = edcopy2.groupby(['YEAR']).mean()"
      ],
      "execution_count": null,
      "outputs": []
    },
    {
      "cell_type": "code",
      "metadata": {
        "colab": {
          "base_uri": "https://localhost:8080/"
        },
        "id": "bQCgVpdRiNnS",
        "outputId": "1f1632e8-db64-4f0d-e2a5-00913ac427bc"
      },
      "source": [
        "yr_avgs[\"ENROLL\"][1995]"
      ],
      "execution_count": null,
      "outputs": [
        {
          "output_type": "execute_result",
          "data": {
            "text/plain": [
              "858973.0392156863"
            ]
          },
          "metadata": {
            "tags": []
          },
          "execution_count": 10
        }
      ]
    },
    {
      "cell_type": "code",
      "metadata": {
        "id": "eKjXjNBkgRsn"
      },
      "source": [
        "years = edcopy2['YEAR'].unique()"
      ],
      "execution_count": null,
      "outputs": []
    },
    {
      "cell_type": "code",
      "metadata": {
        "id": "6SsueJYGeuMl"
      },
      "source": [
        "for var in fill_variables:\n",
        "  for year in years:\n",
        "    edcopy2.loc[edcopy2[\"YEAR\"] == year, var] = edcopy2.loc[edcopy2[\"YEAR\"] == year, var].fillna(yr_avgs[var][year])"
      ],
      "execution_count": null,
      "outputs": []
    },
    {
      "cell_type": "code",
      "metadata": {
        "colab": {
          "base_uri": "https://localhost:8080/"
        },
        "id": "TOEwQtbAipsL",
        "outputId": "e9aab7bf-1f3c-4ce2-fb74-6fabb4b6ce66"
      },
      "source": [
        "edcopy2.isnull().sum()*100/edcopy2.isnull().count()"
      ],
      "execution_count": null,
      "outputs": [
        {
          "output_type": "execute_result",
          "data": {
            "text/plain": [
              "PRIMARY_KEY                      0.000000\n",
              "STATE                            0.000000\n",
              "YEAR                             0.000000\n",
              "ENROLL                           7.171582\n",
              "TOTAL_REVENUE                    3.418231\n",
              "FEDERAL_REVENUE                  3.418231\n",
              "STATE_REVENUE                    3.418231\n",
              "LOCAL_REVENUE                    3.418231\n",
              "TOTAL_EXPENDITURE                3.418231\n",
              "INSTRUCTION_EXPENDITURE          3.418231\n",
              "SUPPORT_SERVICES_EXPENDITURE     3.418231\n",
              "OTHER_EXPENDITURE                7.171582\n",
              "CAPITAL_OUTLAY_EXPENDITURE       3.418231\n",
              "GRADES_PK_G                      6.836461\n",
              "GRADES_KG_G                      6.836461\n",
              "GRADES_4_G                       6.836461\n",
              "GRADES_8_G                       6.836461\n",
              "GRADES_12_G                      6.836461\n",
              "GRADES_1_8_G                     6.836461\n",
              "GRADES_9_12_G                    6.836461\n",
              "GRADES_ALL_G                     6.836461\n",
              "AVG_MATH_4_SCORE                64.075067\n",
              "AVG_MATH_8_SCORE                64.343164\n",
              "AVG_READING_4_SCORE             64.276139\n",
              "AVG_READING_8_SCORE             66.621984\n",
              "dtype: float64"
            ]
          },
          "metadata": {
            "tags": []
          },
          "execution_count": 13
        }
      ]
    },
    {
      "cell_type": "markdown",
      "metadata": {
        "id": "Us22a0erjoiD"
      },
      "source": [
        "4. This time, fill in the missing values using interpolation (extrapolation)."
      ]
    },
    {
      "cell_type": "code",
      "metadata": {
        "id": "zjAt1_0mjOQg"
      },
      "source": [
        "edcopy3 = useducation_df.copy()"
      ],
      "execution_count": null,
      "outputs": []
    },
    {
      "cell_type": "code",
      "metadata": {
        "id": "k4s-CA8IkAnI"
      },
      "source": [
        "states = edcopy3['STATE'].unique()"
      ],
      "execution_count": null,
      "outputs": []
    },
    {
      "cell_type": "code",
      "metadata": {
        "id": "tJSG6pX8ju5K"
      },
      "source": [
        "for var in fill_variables:\n",
        "  edcopy3.loc[:, var] = edcopy3.loc[:, var].interpolate()"
      ],
      "execution_count": null,
      "outputs": []
    },
    {
      "cell_type": "code",
      "metadata": {
        "colab": {
          "base_uri": "https://localhost:8080/",
          "height": 224
        },
        "id": "DCdff0aolPi8",
        "outputId": "a585ba11-7a27-47c2-c19c-5b2f944603b4"
      },
      "source": [
        "edcopy3.head()"
      ],
      "execution_count": null,
      "outputs": [
        {
          "output_type": "execute_result",
          "data": {
            "text/html": [
              "<div>\n",
              "<style scoped>\n",
              "    .dataframe tbody tr th:only-of-type {\n",
              "        vertical-align: middle;\n",
              "    }\n",
              "\n",
              "    .dataframe tbody tr th {\n",
              "        vertical-align: top;\n",
              "    }\n",
              "\n",
              "    .dataframe thead th {\n",
              "        text-align: right;\n",
              "    }\n",
              "</style>\n",
              "<table border=\"1\" class=\"dataframe\">\n",
              "  <thead>\n",
              "    <tr style=\"text-align: right;\">\n",
              "      <th></th>\n",
              "      <th>PRIMARY_KEY</th>\n",
              "      <th>STATE</th>\n",
              "      <th>YEAR</th>\n",
              "      <th>ENROLL</th>\n",
              "      <th>TOTAL_REVENUE</th>\n",
              "      <th>FEDERAL_REVENUE</th>\n",
              "      <th>STATE_REVENUE</th>\n",
              "      <th>LOCAL_REVENUE</th>\n",
              "      <th>TOTAL_EXPENDITURE</th>\n",
              "      <th>INSTRUCTION_EXPENDITURE</th>\n",
              "      <th>SUPPORT_SERVICES_EXPENDITURE</th>\n",
              "      <th>OTHER_EXPENDITURE</th>\n",
              "      <th>CAPITAL_OUTLAY_EXPENDITURE</th>\n",
              "      <th>GRADES_PK_G</th>\n",
              "      <th>GRADES_KG_G</th>\n",
              "      <th>GRADES_4_G</th>\n",
              "      <th>GRADES_8_G</th>\n",
              "      <th>GRADES_12_G</th>\n",
              "      <th>GRADES_1_8_G</th>\n",
              "      <th>GRADES_9_12_G</th>\n",
              "      <th>GRADES_ALL_G</th>\n",
              "      <th>AVG_MATH_4_SCORE</th>\n",
              "      <th>AVG_MATH_8_SCORE</th>\n",
              "      <th>AVG_READING_4_SCORE</th>\n",
              "      <th>AVG_READING_8_SCORE</th>\n",
              "    </tr>\n",
              "  </thead>\n",
              "  <tbody>\n",
              "    <tr>\n",
              "      <th>0</th>\n",
              "      <td>1992_ALABAMA</td>\n",
              "      <td>ALABAMA</td>\n",
              "      <td>1992</td>\n",
              "      <td>NaN</td>\n",
              "      <td>2678885.0</td>\n",
              "      <td>304177.0</td>\n",
              "      <td>1659028.0</td>\n",
              "      <td>715680.0</td>\n",
              "      <td>2653798.0</td>\n",
              "      <td>1481703.0</td>\n",
              "      <td>735036.0</td>\n",
              "      <td>NaN</td>\n",
              "      <td>174053.0</td>\n",
              "      <td>8224.0</td>\n",
              "      <td>55460.0</td>\n",
              "      <td>57948.0</td>\n",
              "      <td>58025.0</td>\n",
              "      <td>41167.0</td>\n",
              "      <td>471564.0</td>\n",
              "      <td>196386.0</td>\n",
              "      <td>676174.0</td>\n",
              "      <td>208.327876</td>\n",
              "      <td>252.187522</td>\n",
              "      <td>207.963517</td>\n",
              "      <td>NaN</td>\n",
              "    </tr>\n",
              "    <tr>\n",
              "      <th>1</th>\n",
              "      <td>1992_ALASKA</td>\n",
              "      <td>ALASKA</td>\n",
              "      <td>1992</td>\n",
              "      <td>NaN</td>\n",
              "      <td>1049591.0</td>\n",
              "      <td>106780.0</td>\n",
              "      <td>720711.0</td>\n",
              "      <td>222100.0</td>\n",
              "      <td>972488.0</td>\n",
              "      <td>498362.0</td>\n",
              "      <td>350902.0</td>\n",
              "      <td>NaN</td>\n",
              "      <td>37451.0</td>\n",
              "      <td>2371.0</td>\n",
              "      <td>10152.0</td>\n",
              "      <td>9748.0</td>\n",
              "      <td>8789.0</td>\n",
              "      <td>6714.0</td>\n",
              "      <td>79117.0</td>\n",
              "      <td>30847.0</td>\n",
              "      <td>112335.0</td>\n",
              "      <td>NaN</td>\n",
              "      <td>NaN</td>\n",
              "      <td>NaN</td>\n",
              "      <td>258.859712</td>\n",
              "    </tr>\n",
              "    <tr>\n",
              "      <th>2</th>\n",
              "      <td>1992_ARIZONA</td>\n",
              "      <td>ARIZONA</td>\n",
              "      <td>1992</td>\n",
              "      <td>NaN</td>\n",
              "      <td>3258079.0</td>\n",
              "      <td>297888.0</td>\n",
              "      <td>1369815.0</td>\n",
              "      <td>1590376.0</td>\n",
              "      <td>3401580.0</td>\n",
              "      <td>1435908.0</td>\n",
              "      <td>1007732.0</td>\n",
              "      <td>NaN</td>\n",
              "      <td>609114.0</td>\n",
              "      <td>2544.0</td>\n",
              "      <td>53497.0</td>\n",
              "      <td>55433.0</td>\n",
              "      <td>49081.0</td>\n",
              "      <td>37410.0</td>\n",
              "      <td>437127.0</td>\n",
              "      <td>175210.0</td>\n",
              "      <td>614881.0</td>\n",
              "      <td>215.253932</td>\n",
              "      <td>265.366278</td>\n",
              "      <td>206.212716</td>\n",
              "      <td>262.169895</td>\n",
              "    </tr>\n",
              "    <tr>\n",
              "      <th>3</th>\n",
              "      <td>1992_ARKANSAS</td>\n",
              "      <td>ARKANSAS</td>\n",
              "      <td>1992</td>\n",
              "      <td>NaN</td>\n",
              "      <td>1711959.0</td>\n",
              "      <td>178571.0</td>\n",
              "      <td>958785.0</td>\n",
              "      <td>574603.0</td>\n",
              "      <td>1743022.0</td>\n",
              "      <td>964323.0</td>\n",
              "      <td>483488.0</td>\n",
              "      <td>NaN</td>\n",
              "      <td>145212.0</td>\n",
              "      <td>808.0</td>\n",
              "      <td>33511.0</td>\n",
              "      <td>34632.0</td>\n",
              "      <td>36011.0</td>\n",
              "      <td>27651.0</td>\n",
              "      <td>281338.0</td>\n",
              "      <td>123113.0</td>\n",
              "      <td>405259.0</td>\n",
              "      <td>210.206028</td>\n",
              "      <td>256.312090</td>\n",
              "      <td>208.634458</td>\n",
              "      <td>264.619665</td>\n",
              "    </tr>\n",
              "    <tr>\n",
              "      <th>4</th>\n",
              "      <td>1992_CALIFORNIA</td>\n",
              "      <td>CALIFORNIA</td>\n",
              "      <td>1992</td>\n",
              "      <td>NaN</td>\n",
              "      <td>26260025.0</td>\n",
              "      <td>2072470.0</td>\n",
              "      <td>16546514.0</td>\n",
              "      <td>7641041.0</td>\n",
              "      <td>27138832.0</td>\n",
              "      <td>14358922.0</td>\n",
              "      <td>8520926.0</td>\n",
              "      <td>NaN</td>\n",
              "      <td>2044688.0</td>\n",
              "      <td>59067.0</td>\n",
              "      <td>431763.0</td>\n",
              "      <td>418418.0</td>\n",
              "      <td>363296.0</td>\n",
              "      <td>270675.0</td>\n",
              "      <td>3286034.0</td>\n",
              "      <td>1372011.0</td>\n",
              "      <td>4717112.0</td>\n",
              "      <td>208.398961</td>\n",
              "      <td>260.892247</td>\n",
              "      <td>196.764414</td>\n",
              "      <td>NaN</td>\n",
              "    </tr>\n",
              "  </tbody>\n",
              "</table>\n",
              "</div>"
            ],
            "text/plain": [
              "       PRIMARY_KEY       STATE  ...  AVG_READING_4_SCORE  AVG_READING_8_SCORE\n",
              "0     1992_ALABAMA     ALABAMA  ...           207.963517                  NaN\n",
              "1      1992_ALASKA      ALASKA  ...                  NaN           258.859712\n",
              "2     1992_ARIZONA     ARIZONA  ...           206.212716           262.169895\n",
              "3    1992_ARKANSAS    ARKANSAS  ...           208.634458           264.619665\n",
              "4  1992_CALIFORNIA  CALIFORNIA  ...           196.764414                  NaN\n",
              "\n",
              "[5 rows x 25 columns]"
            ]
          },
          "metadata": {
            "tags": []
          },
          "execution_count": 17
        }
      ]
    },
    {
      "cell_type": "markdown",
      "metadata": {
        "id": "HDXd1yWnlYd2"
      },
      "source": [
        "5. Compare your results for the second, third, and fourth questions. Do you find any meaningful differences?"
      ]
    },
    {
      "cell_type": "code",
      "metadata": {
        "id": "LsXaelaYlocd"
      },
      "source": [
        "avgs = pd.DataFrame({\"original\" :useducation_df.mean(), \"total avg\" :edcopy.mean(), 'by year' :edcopy2.mean(), 'interpolation':edcopy3.mean()})"
      ],
      "execution_count": null,
      "outputs": []
    },
    {
      "cell_type": "code",
      "metadata": {
        "colab": {
          "base_uri": "https://localhost:8080/",
          "height": 762
        },
        "id": "pOpEOcolnXo9",
        "outputId": "61d2382b-40ea-46f2-d841-d50d6c6e96a4"
      },
      "source": [
        "avgs"
      ],
      "execution_count": null,
      "outputs": [
        {
          "output_type": "execute_result",
          "data": {
            "text/html": [
              "<div>\n",
              "<style scoped>\n",
              "    .dataframe tbody tr th:only-of-type {\n",
              "        vertical-align: middle;\n",
              "    }\n",
              "\n",
              "    .dataframe tbody tr th {\n",
              "        vertical-align: top;\n",
              "    }\n",
              "\n",
              "    .dataframe thead th {\n",
              "        text-align: right;\n",
              "    }\n",
              "</style>\n",
              "<table border=\"1\" class=\"dataframe\">\n",
              "  <thead>\n",
              "    <tr style=\"text-align: right;\">\n",
              "      <th></th>\n",
              "      <th>original</th>\n",
              "      <th>total avg</th>\n",
              "      <th>by year</th>\n",
              "      <th>interpolation</th>\n",
              "    </tr>\n",
              "  </thead>\n",
              "  <tbody>\n",
              "    <tr>\n",
              "      <th>YEAR</th>\n",
              "      <td>2.004434e+03</td>\n",
              "      <td>2.004434e+03</td>\n",
              "      <td>2.004434e+03</td>\n",
              "      <td>2.004434e+03</td>\n",
              "    </tr>\n",
              "    <tr>\n",
              "      <th>ENROLL</th>\n",
              "      <td>9.159308e+05</td>\n",
              "      <td>9.159308e+05</td>\n",
              "      <td>9.161654e+05</td>\n",
              "      <td>1.005984e+06</td>\n",
              "    </tr>\n",
              "    <tr>\n",
              "      <th>TOTAL_REVENUE</th>\n",
              "      <td>9.092082e+06</td>\n",
              "      <td>9.092082e+06</td>\n",
              "      <td>9.084108e+06</td>\n",
              "      <td>1.111164e+07</td>\n",
              "    </tr>\n",
              "    <tr>\n",
              "      <th>FEDERAL_REVENUE</th>\n",
              "      <td>7.663723e+05</td>\n",
              "      <td>7.663723e+05</td>\n",
              "      <td>7.662749e+05</td>\n",
              "      <td>8.922691e+05</td>\n",
              "    </tr>\n",
              "    <tr>\n",
              "      <th>STATE_REVENUE</th>\n",
              "      <td>4.216553e+06</td>\n",
              "      <td>4.216553e+06</td>\n",
              "      <td>4.213597e+06</td>\n",
              "      <td>4.913351e+06</td>\n",
              "    </tr>\n",
              "    <tr>\n",
              "      <th>LOCAL_REVENUE</th>\n",
              "      <td>4.109157e+06</td>\n",
              "      <td>4.109157e+06</td>\n",
              "      <td>4.104236e+06</td>\n",
              "      <td>5.306024e+06</td>\n",
              "    </tr>\n",
              "    <tr>\n",
              "      <th>TOTAL_EXPENDITURE</th>\n",
              "      <td>9.196681e+06</td>\n",
              "      <td>9.196681e+06</td>\n",
              "      <td>9.190557e+06</td>\n",
              "      <td>1.114374e+07</td>\n",
              "    </tr>\n",
              "    <tr>\n",
              "      <th>INSTRUCTION_EXPENDITURE</th>\n",
              "      <td>4.762966e+06</td>\n",
              "      <td>4.762966e+06</td>\n",
              "      <td>4.758243e+06</td>\n",
              "      <td>5.792260e+06</td>\n",
              "    </tr>\n",
              "    <tr>\n",
              "      <th>SUPPORT_SERVICES_EXPENDITURE</th>\n",
              "      <td>2.680331e+06</td>\n",
              "      <td>2.680331e+06</td>\n",
              "      <td>2.677770e+06</td>\n",
              "      <td>3.324275e+06</td>\n",
              "    </tr>\n",
              "    <tr>\n",
              "      <th>OTHER_EXPENDITURE</th>\n",
              "      <td>4.292046e+05</td>\n",
              "      <td>4.292046e+05</td>\n",
              "      <td>4.286507e+05</td>\n",
              "      <td>5.004288e+05</td>\n",
              "    </tr>\n",
              "    <tr>\n",
              "      <th>CAPITAL_OUTLAY_EXPENDITURE</th>\n",
              "      <td>9.027693e+05</td>\n",
              "      <td>9.027693e+05</td>\n",
              "      <td>9.044417e+05</td>\n",
              "      <td>1.033524e+06</td>\n",
              "    </tr>\n",
              "    <tr>\n",
              "      <th>GRADES_PK_G</th>\n",
              "      <td>1.760161e+04</td>\n",
              "      <td>1.760161e+04</td>\n",
              "      <td>1.767258e+04</td>\n",
              "      <td>1.592606e+04</td>\n",
              "    </tr>\n",
              "    <tr>\n",
              "      <th>GRADES_KG_G</th>\n",
              "      <td>6.374676e+04</td>\n",
              "      <td>6.374676e+04</td>\n",
              "      <td>6.381017e+04</td>\n",
              "      <td>5.902147e+04</td>\n",
              "    </tr>\n",
              "    <tr>\n",
              "      <th>GRADES_4_G</th>\n",
              "      <td>6.453893e+04</td>\n",
              "      <td>6.453893e+04</td>\n",
              "      <td>6.459015e+04</td>\n",
              "      <td>5.979765e+04</td>\n",
              "    </tr>\n",
              "    <tr>\n",
              "      <th>GRADES_8_G</th>\n",
              "      <td>6.427106e+04</td>\n",
              "      <td>6.427106e+04</td>\n",
              "      <td>6.433174e+04</td>\n",
              "      <td>5.951138e+04</td>\n",
              "    </tr>\n",
              "    <tr>\n",
              "      <th>GRADES_12_G</th>\n",
              "      <td>5.426892e+04</td>\n",
              "      <td>5.426892e+04</td>\n",
              "      <td>5.441808e+04</td>\n",
              "      <td>5.020724e+04</td>\n",
              "    </tr>\n",
              "    <tr>\n",
              "      <th>GRADES_1_8_G</th>\n",
              "      <td>5.192140e+05</td>\n",
              "      <td>5.192140e+05</td>\n",
              "      <td>5.196200e+05</td>\n",
              "      <td>4.810102e+05</td>\n",
              "    </tr>\n",
              "    <tr>\n",
              "      <th>GRADES_9_12_G</th>\n",
              "      <td>2.470714e+05</td>\n",
              "      <td>2.470714e+05</td>\n",
              "      <td>2.474932e+05</td>\n",
              "      <td>2.286678e+05</td>\n",
              "    </tr>\n",
              "    <tr>\n",
              "      <th>GRADES_ALL_G</th>\n",
              "      <td>8.024415e+05</td>\n",
              "      <td>8.024415e+05</td>\n",
              "      <td>8.029178e+05</td>\n",
              "      <td>7.478782e+05</td>\n",
              "    </tr>\n",
              "    <tr>\n",
              "      <th>AVG_MATH_4_SCORE</th>\n",
              "      <td>2.347683e+02</td>\n",
              "      <td>2.347683e+02</td>\n",
              "      <td>2.347683e+02</td>\n",
              "      <td>2.347683e+02</td>\n",
              "    </tr>\n",
              "    <tr>\n",
              "      <th>AVG_MATH_8_SCORE</th>\n",
              "      <td>2.784147e+02</td>\n",
              "      <td>2.784147e+02</td>\n",
              "      <td>2.784147e+02</td>\n",
              "      <td>2.784147e+02</td>\n",
              "    </tr>\n",
              "    <tr>\n",
              "      <th>AVG_READING_4_SCORE</th>\n",
              "      <td>2.188662e+02</td>\n",
              "      <td>2.188662e+02</td>\n",
              "      <td>2.188662e+02</td>\n",
              "      <td>2.188662e+02</td>\n",
              "    </tr>\n",
              "    <tr>\n",
              "      <th>AVG_READING_8_SCORE</th>\n",
              "      <td>2.636611e+02</td>\n",
              "      <td>2.636611e+02</td>\n",
              "      <td>2.636611e+02</td>\n",
              "      <td>2.636611e+02</td>\n",
              "    </tr>\n",
              "  </tbody>\n",
              "</table>\n",
              "</div>"
            ],
            "text/plain": [
              "                                  original  ...  interpolation\n",
              "YEAR                          2.004434e+03  ...   2.004434e+03\n",
              "ENROLL                        9.159308e+05  ...   1.005984e+06\n",
              "TOTAL_REVENUE                 9.092082e+06  ...   1.111164e+07\n",
              "FEDERAL_REVENUE               7.663723e+05  ...   8.922691e+05\n",
              "STATE_REVENUE                 4.216553e+06  ...   4.913351e+06\n",
              "LOCAL_REVENUE                 4.109157e+06  ...   5.306024e+06\n",
              "TOTAL_EXPENDITURE             9.196681e+06  ...   1.114374e+07\n",
              "INSTRUCTION_EXPENDITURE       4.762966e+06  ...   5.792260e+06\n",
              "SUPPORT_SERVICES_EXPENDITURE  2.680331e+06  ...   3.324275e+06\n",
              "OTHER_EXPENDITURE             4.292046e+05  ...   5.004288e+05\n",
              "CAPITAL_OUTLAY_EXPENDITURE    9.027693e+05  ...   1.033524e+06\n",
              "GRADES_PK_G                   1.760161e+04  ...   1.592606e+04\n",
              "GRADES_KG_G                   6.374676e+04  ...   5.902147e+04\n",
              "GRADES_4_G                    6.453893e+04  ...   5.979765e+04\n",
              "GRADES_8_G                    6.427106e+04  ...   5.951138e+04\n",
              "GRADES_12_G                   5.426892e+04  ...   5.020724e+04\n",
              "GRADES_1_8_G                  5.192140e+05  ...   4.810102e+05\n",
              "GRADES_9_12_G                 2.470714e+05  ...   2.286678e+05\n",
              "GRADES_ALL_G                  8.024415e+05  ...   7.478782e+05\n",
              "AVG_MATH_4_SCORE              2.347683e+02  ...   2.347683e+02\n",
              "AVG_MATH_8_SCORE              2.784147e+02  ...   2.784147e+02\n",
              "AVG_READING_4_SCORE           2.188662e+02  ...   2.188662e+02\n",
              "AVG_READING_8_SCORE           2.636611e+02  ...   2.636611e+02\n",
              "\n",
              "[23 rows x 4 columns]"
            ]
          },
          "metadata": {
            "tags": []
          },
          "execution_count": 19
        }
      ]
    },
    {
      "cell_type": "code",
      "metadata": {
        "id": "_468LAeGl4R2"
      },
      "source": [
        ""
      ],
      "execution_count": null,
      "outputs": []
    }
  ]
}