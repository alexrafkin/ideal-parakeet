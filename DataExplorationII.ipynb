{
  "nbformat": 4,
  "nbformat_minor": 0,
  "metadata": {
    "colab": {
      "name": "DataExplorationII.ipynb",
      "provenance": [],
      "authorship_tag": "ABX9TyNZhQ0w8NRg/GTRvDeq9/qp",
      "include_colab_link": true
    },
    "kernelspec": {
      "name": "python3",
      "display_name": "Python 3"
    }
  },
  "cells": [
    {
      "cell_type": "markdown",
      "metadata": {
        "id": "view-in-github",
        "colab_type": "text"
      },
      "source": [
        "<a href=\"https://colab.research.google.com/github/alexrafkin/ideal-parakeet/blob/main/DataExplorationII.ipynb\" target=\"_parent\"><img src=\"https://colab.research.google.com/assets/colab-badge.svg\" alt=\"Open In Colab\"/></a>"
      ]
    },
    {
      "cell_type": "code",
      "metadata": {
        "id": "F1WxX94_A2sJ"
      },
      "source": [
        "import pandas as pd\n",
        "import numpy as np\n",
        "import matplotlib\n",
        "import matplotlib.pyplot as plt\n",
        "import seaborn as sns\n",
        "import scipy.stats as stats\n",
        "from scipy.stats.mstats import winsorize\n",
        "from sqlalchemy import create_engine\n",
        "import warnings\n",
        "\n",
        "warnings.filterwarnings('ignore')\n",
        "\n",
        "postgres_user = 'dsbc_student'\n",
        "postgres_pw = '7*.8G9QH21'\n",
        "postgres_host = '142.93.121.174'\n",
        "postgres_port = '5432'\n",
        "postgres_db = 'studentsperformance'\n",
        "\n",
        "engine = create_engine('postgresql://{}:{}@{}:{}/{}'.format(\n",
        "    postgres_user, postgres_pw, postgres_host, postgres_port, postgres_db))\n",
        "\n",
        "sp = pd.read_sql_query('select * from studentsperformance',con=engine)\n",
        "engine.dispose()"
      ],
      "execution_count": null,
      "outputs": []
    },
    {
      "cell_type": "code",
      "metadata": {
        "id": "_vwvx7FLMuF3"
      },
      "source": [
        "import matplotlib.pyplot as plt\n",
        "import seaborn as sns\n",
        "import numpy as np\n",
        "import pandas as pd\n",
        "import seaborn as sns\n",
        "import scipy.stats as stats\n",
        "from scipy.stats.mstats import winsorize\n",
        "from sqlalchemy import create_engine\n",
        "import warnings"
      ],
      "execution_count": null,
      "outputs": []
    },
    {
      "cell_type": "code",
      "metadata": {
        "colab": {
          "base_uri": "https://localhost:8080/",
          "height": 419
        },
        "id": "wv9O1aLaI_Wk",
        "outputId": "6dddf1d2-a825-452e-d25b-45135aba69b7"
      },
      "source": [
        "sp"
      ],
      "execution_count": null,
      "outputs": [
        {
          "output_type": "execute_result",
          "data": {
            "text/html": [
              "<div>\n",
              "<style scoped>\n",
              "    .dataframe tbody tr th:only-of-type {\n",
              "        vertical-align: middle;\n",
              "    }\n",
              "\n",
              "    .dataframe tbody tr th {\n",
              "        vertical-align: top;\n",
              "    }\n",
              "\n",
              "    .dataframe thead th {\n",
              "        text-align: right;\n",
              "    }\n",
              "</style>\n",
              "<table border=\"1\" class=\"dataframe\">\n",
              "  <thead>\n",
              "    <tr style=\"text-align: right;\">\n",
              "      <th></th>\n",
              "      <th>gender</th>\n",
              "      <th>race/ethnicity</th>\n",
              "      <th>parental level of education</th>\n",
              "      <th>lunch</th>\n",
              "      <th>test preparation course</th>\n",
              "      <th>math score</th>\n",
              "      <th>reading score</th>\n",
              "      <th>writing score</th>\n",
              "      <th>total score</th>\n",
              "    </tr>\n",
              "  </thead>\n",
              "  <tbody>\n",
              "    <tr>\n",
              "      <th>0</th>\n",
              "      <td>female</td>\n",
              "      <td>group B</td>\n",
              "      <td>bachelor's degree</td>\n",
              "      <td>standard</td>\n",
              "      <td>none</td>\n",
              "      <td>72</td>\n",
              "      <td>72</td>\n",
              "      <td>74</td>\n",
              "      <td>218</td>\n",
              "    </tr>\n",
              "    <tr>\n",
              "      <th>1</th>\n",
              "      <td>female</td>\n",
              "      <td>group C</td>\n",
              "      <td>some college</td>\n",
              "      <td>standard</td>\n",
              "      <td>completed</td>\n",
              "      <td>69</td>\n",
              "      <td>90</td>\n",
              "      <td>88</td>\n",
              "      <td>247</td>\n",
              "    </tr>\n",
              "    <tr>\n",
              "      <th>2</th>\n",
              "      <td>female</td>\n",
              "      <td>group B</td>\n",
              "      <td>master's degree</td>\n",
              "      <td>standard</td>\n",
              "      <td>none</td>\n",
              "      <td>90</td>\n",
              "      <td>95</td>\n",
              "      <td>93</td>\n",
              "      <td>278</td>\n",
              "    </tr>\n",
              "    <tr>\n",
              "      <th>3</th>\n",
              "      <td>male</td>\n",
              "      <td>group A</td>\n",
              "      <td>associate's degree</td>\n",
              "      <td>free/reduced</td>\n",
              "      <td>none</td>\n",
              "      <td>47</td>\n",
              "      <td>57</td>\n",
              "      <td>44</td>\n",
              "      <td>148</td>\n",
              "    </tr>\n",
              "    <tr>\n",
              "      <th>4</th>\n",
              "      <td>male</td>\n",
              "      <td>group C</td>\n",
              "      <td>some college</td>\n",
              "      <td>standard</td>\n",
              "      <td>none</td>\n",
              "      <td>76</td>\n",
              "      <td>78</td>\n",
              "      <td>75</td>\n",
              "      <td>229</td>\n",
              "    </tr>\n",
              "    <tr>\n",
              "      <th>...</th>\n",
              "      <td>...</td>\n",
              "      <td>...</td>\n",
              "      <td>...</td>\n",
              "      <td>...</td>\n",
              "      <td>...</td>\n",
              "      <td>...</td>\n",
              "      <td>...</td>\n",
              "      <td>...</td>\n",
              "      <td>...</td>\n",
              "    </tr>\n",
              "    <tr>\n",
              "      <th>995</th>\n",
              "      <td>female</td>\n",
              "      <td>group E</td>\n",
              "      <td>master's degree</td>\n",
              "      <td>standard</td>\n",
              "      <td>completed</td>\n",
              "      <td>88</td>\n",
              "      <td>99</td>\n",
              "      <td>95</td>\n",
              "      <td>282</td>\n",
              "    </tr>\n",
              "    <tr>\n",
              "      <th>996</th>\n",
              "      <td>male</td>\n",
              "      <td>group C</td>\n",
              "      <td>high school</td>\n",
              "      <td>free/reduced</td>\n",
              "      <td>none</td>\n",
              "      <td>62</td>\n",
              "      <td>55</td>\n",
              "      <td>55</td>\n",
              "      <td>172</td>\n",
              "    </tr>\n",
              "    <tr>\n",
              "      <th>997</th>\n",
              "      <td>female</td>\n",
              "      <td>group C</td>\n",
              "      <td>high school</td>\n",
              "      <td>free/reduced</td>\n",
              "      <td>completed</td>\n",
              "      <td>59</td>\n",
              "      <td>71</td>\n",
              "      <td>65</td>\n",
              "      <td>195</td>\n",
              "    </tr>\n",
              "    <tr>\n",
              "      <th>998</th>\n",
              "      <td>female</td>\n",
              "      <td>group D</td>\n",
              "      <td>some college</td>\n",
              "      <td>standard</td>\n",
              "      <td>completed</td>\n",
              "      <td>68</td>\n",
              "      <td>78</td>\n",
              "      <td>77</td>\n",
              "      <td>223</td>\n",
              "    </tr>\n",
              "    <tr>\n",
              "      <th>999</th>\n",
              "      <td>female</td>\n",
              "      <td>group D</td>\n",
              "      <td>some college</td>\n",
              "      <td>free/reduced</td>\n",
              "      <td>none</td>\n",
              "      <td>77</td>\n",
              "      <td>86</td>\n",
              "      <td>86</td>\n",
              "      <td>249</td>\n",
              "    </tr>\n",
              "  </tbody>\n",
              "</table>\n",
              "<p>1000 rows × 9 columns</p>\n",
              "</div>"
            ],
            "text/plain": [
              "     gender race/ethnicity  ... writing score total score\n",
              "0    female        group B  ...            74         218\n",
              "1    female        group C  ...            88         247\n",
              "2    female        group B  ...            93         278\n",
              "3      male        group A  ...            44         148\n",
              "4      male        group C  ...            75         229\n",
              "..      ...            ...  ...           ...         ...\n",
              "995  female        group E  ...            95         282\n",
              "996    male        group C  ...            55         172\n",
              "997  female        group C  ...            65         195\n",
              "998  female        group D  ...            77         223\n",
              "999  female        group D  ...            86         249\n",
              "\n",
              "[1000 rows x 9 columns]"
            ]
          },
          "metadata": {
            "tags": []
          },
          "execution_count": 44
        }
      ]
    },
    {
      "cell_type": "markdown",
      "metadata": {
        "id": "0va1VWPEIWj8"
      },
      "source": [
        "1. Are there any differences between the genders, ethnicities, and parental level of education with respect to student performances in exams?"
      ]
    },
    {
      "cell_type": "code",
      "metadata": {
        "id": "F6Cvnez9IxRy"
      },
      "source": [
        "sp['total score'] = sp['math score'] + sp['reading score'] + sp['writing score']"
      ],
      "execution_count": null,
      "outputs": []
    },
    {
      "cell_type": "code",
      "metadata": {
        "id": "LtSjt9QpKnWQ"
      },
      "source": [
        "import seaborn as sns"
      ],
      "execution_count": null,
      "outputs": []
    },
    {
      "cell_type": "code",
      "metadata": {
        "colab": {
          "base_uri": "https://localhost:8080/",
          "height": 235
        },
        "id": "Eb0P2Y1iIjRj",
        "outputId": "f345689f-16a9-4384-f5c9-187b92d2a14e"
      },
      "source": [
        "sp.groupby(\"race/ethnicity\").mean()"
      ],
      "execution_count": null,
      "outputs": [
        {
          "output_type": "execute_result",
          "data": {
            "text/html": [
              "<div>\n",
              "<style scoped>\n",
              "    .dataframe tbody tr th:only-of-type {\n",
              "        vertical-align: middle;\n",
              "    }\n",
              "\n",
              "    .dataframe tbody tr th {\n",
              "        vertical-align: top;\n",
              "    }\n",
              "\n",
              "    .dataframe thead th {\n",
              "        text-align: right;\n",
              "    }\n",
              "</style>\n",
              "<table border=\"1\" class=\"dataframe\">\n",
              "  <thead>\n",
              "    <tr style=\"text-align: right;\">\n",
              "      <th></th>\n",
              "      <th>math score</th>\n",
              "      <th>reading score</th>\n",
              "      <th>writing score</th>\n",
              "      <th>total score</th>\n",
              "    </tr>\n",
              "    <tr>\n",
              "      <th>race/ethnicity</th>\n",
              "      <th></th>\n",
              "      <th></th>\n",
              "      <th></th>\n",
              "      <th></th>\n",
              "    </tr>\n",
              "  </thead>\n",
              "  <tbody>\n",
              "    <tr>\n",
              "      <th>group A</th>\n",
              "      <td>61.629213</td>\n",
              "      <td>64.674157</td>\n",
              "      <td>62.674157</td>\n",
              "      <td>188.977528</td>\n",
              "    </tr>\n",
              "    <tr>\n",
              "      <th>group B</th>\n",
              "      <td>63.452632</td>\n",
              "      <td>67.352632</td>\n",
              "      <td>65.600000</td>\n",
              "      <td>196.405263</td>\n",
              "    </tr>\n",
              "    <tr>\n",
              "      <th>group C</th>\n",
              "      <td>64.463950</td>\n",
              "      <td>69.103448</td>\n",
              "      <td>67.827586</td>\n",
              "      <td>201.394984</td>\n",
              "    </tr>\n",
              "    <tr>\n",
              "      <th>group D</th>\n",
              "      <td>67.362595</td>\n",
              "      <td>70.030534</td>\n",
              "      <td>70.145038</td>\n",
              "      <td>207.538168</td>\n",
              "    </tr>\n",
              "    <tr>\n",
              "      <th>group E</th>\n",
              "      <td>73.821429</td>\n",
              "      <td>73.028571</td>\n",
              "      <td>71.407143</td>\n",
              "      <td>218.257143</td>\n",
              "    </tr>\n",
              "  </tbody>\n",
              "</table>\n",
              "</div>"
            ],
            "text/plain": [
              "                math score  reading score  writing score  total score\n",
              "race/ethnicity                                                       \n",
              "group A          61.629213      64.674157      62.674157   188.977528\n",
              "group B          63.452632      67.352632      65.600000   196.405263\n",
              "group C          64.463950      69.103448      67.827586   201.394984\n",
              "group D          67.362595      70.030534      70.145038   207.538168\n",
              "group E          73.821429      73.028571      71.407143   218.257143"
            ]
          },
          "metadata": {
            "tags": []
          },
          "execution_count": 13
        }
      ]
    },
    {
      "cell_type": "code",
      "metadata": {
        "colab": {
          "base_uri": "https://localhost:8080/",
          "height": 350
        },
        "id": "7-q8SGnwKCg0",
        "outputId": "2559d4cf-ecdb-478a-bbd0-fea3a4d129c3"
      },
      "source": [
        "plt.figure(figsize=(18,5))\n",
        "\n",
        "plt.subplot(1,4,1)\n",
        "sns.barplot(sp[\"race/ethnicity\"], sp[\"math score\"])\n",
        "plt.title(\"average math\")\n",
        "\n",
        "plt.subplot(1,4,2)\n",
        "sns.barplot(sp[\"race/ethnicity\"], sp[\"reading score\"])\n",
        "plt.title(\"average reading\")\n",
        "\n",
        "plt.subplot(1,4,3)\n",
        "sns.barplot(sp[\"race/ethnicity\"], sp[\"writing score\"])\n",
        "plt.title(\"average writing\")\n",
        "\n",
        "plt.subplot(1,4,4)\n",
        "sns.barplot(sp[\"race/ethnicity\"], sp[\"total score\"])\n",
        "plt.title(\"average total\")\n",
        "\n",
        "plt.show()"
      ],
      "execution_count": null,
      "outputs": [
        {
          "output_type": "display_data",
          "data": {
            "image/png": "[encoded data removed]",
            "text/plain": [
              "<Figure size 1296x360 with 4 Axes>"
            ]
          },
          "metadata": {
            "tags": [],
            "needs_background": "light"
          }
        }
      ]
    },
    {
      "cell_type": "markdown",
      "metadata": {
        "id": "rM-T4tlRK0Yt"
      },
      "source": [
        "Looks like group E does the best on avg, and group A does the worst."
      ]
    },
    {
      "cell_type": "code",
      "metadata": {
        "id": "cB5pwvXmMjqk"
      },
      "source": [
        "import math\n",
        "from termcolor import colored"
      ],
      "execution_count": null,
      "outputs": []
    },
    {
      "cell_type": "code",
      "metadata": {
        "colab": {
          "base_uri": "https://localhost:8080/"
        },
        "id": "PT-0CWuUL9-M",
        "outputId": "a89dcc11-966f-49f8-cf00-813812127f01"
      },
      "source": [
        "# Test whether group differences are significant\n",
        "racegroups = sp[\"race/ethnicity\"].unique()\n",
        "racegrouped_df = sp.groupby(\"race/ethnicity\")\n",
        "for var in [\"math score\", \"writing score\", \"reading score\"]:\n",
        "    print(\"------------------------------------------------\")\n",
        "    print(\"Comparisons for variable: {}\".format(var))\n",
        "    print(\"------------------------------------------------\")\n",
        "    for i in range(0, len(racegroups)):\n",
        "        for j in range(i+1, len(racegroups)):\n",
        "            print(\"t-test between groups {0} and {1}:\".format(racegroups[i], racegroups[j]))\n",
        "            if stats.ttest_ind(sp[sp[\"race/ethnicity\"]==racegroups[i]][var], sp[sp[\"race/ethnicity\"]==racegroups[j]][var])[1]<0.05:\n",
        "              print(colored(stats.ttest_ind(\n",
        "                sp[sp[\"race/ethnicity\"]==racegroups[i]][var], \n",
        "                sp[sp[\"race/ethnicity\"]==racegroups[j]][var]\n",
        "                ), 'green'))\n",
        "            else:\n",
        "              print(stats.ttest_ind(sp[sp[\"race/ethnicity\"]==racegroups[i]][var], sp[sp[\"race/ethnicity\"]==racegroups[j]][var]))"
      ],
      "execution_count": null,
      "outputs": [
        {
          "output_type": "stream",
          "text": [
            "------------------------------------------------\n",
            "Comparisons for variable: math score\n",
            "------------------------------------------------\n",
            "t-test between groups group B and group C:\n",
            "Ttest_indResult(statistic=-0.7315669893534263, pvalue=0.4647708939167453)\n",
            "t-test between groups group B and group A:\n",
            "Ttest_indResult(statistic=0.9355076279747488, pvalue=0.3503415961659957)\n",
            "t-test between groups group B and group D:\n",
            "\u001b[32mTtest_indResult(statistic=-2.82845539712675, pvalue=0.004886197137104194)\u001b[0m\n",
            "t-test between groups group B and group E:\n",
            "\u001b[32mTtest_indResult(statistic=-6.007397050552227, pvalue=5.007946047497971e-09)\u001b[0m\n",
            "t-test between groups group C and group A:\n",
            "Ttest_indResult(statistic=1.5997220303217299, pvalue=0.11043810745588042)\n",
            "t-test between groups group C and group D:\n",
            "\u001b[32mTtest_indResult(statistic=-2.41858624746011, pvalue=0.015888349556016285)\u001b[0m\n",
            "t-test between groups group C and group E:\n",
            "\u001b[32mTtest_indResult(statistic=-6.127642520822135, pvalue=1.927238849552764e-09)\u001b[0m\n",
            "t-test between groups group A and group D:\n",
            "\u001b[32mTtest_indResult(statistic=-3.3466982429712298, pvalue=0.0009068636053543751)\u001b[0m\n",
            "t-test between groups group A and group E:\n",
            "\u001b[32mTtest_indResult(statistic=-5.936141025544798, pvalue=1.083559122656415e-08)\u001b[0m\n",
            "t-test between groups group D and group E:\n",
            "\u001b[32mTtest_indResult(statistic=-4.282287214674715, pvalue=2.3187640326715042e-05)\u001b[0m\n",
            "------------------------------------------------\n",
            "Comparisons for variable: writing score\n",
            "------------------------------------------------\n",
            "t-test between groups group B and group C:\n",
            "Ttest_indResult(statistic=-1.5964963433740407, pvalue=0.1110010959814519)\n",
            "t-test between groups group B and group A:\n",
            "Ttest_indResult(statistic=1.4624420577998105, pvalue=0.14475374198993884)\n",
            "t-test between groups group B and group D:\n",
            "\u001b[32mTtest_indResult(statistic=-3.19929333232526, pvalue=0.0014749978881319053)\u001b[0m\n",
            "t-test between groups group B and group E:\n",
            "\u001b[32mTtest_indResult(statistic=-3.3831978345244518, pvalue=0.0008032300486353951)\u001b[0m\n",
            "t-test between groups group C and group A:\n",
            "\u001b[32mTtest_indResult(statistic=2.848872404992454, pvalue=0.004610690740740428)\u001b[0m\n",
            "t-test between groups group C and group D:\n",
            "Ttest_indResult(statistic=-1.8896631516726248, pvalue=0.05930232918708209)\n",
            "t-test between groups group C and group E:\n",
            "\u001b[32mTtest_indResult(statistic=-2.3502811868359177, pvalue=0.019183539018898285)\u001b[0m\n",
            "t-test between groups group A and group D:\n",
            "\u001b[32mTtest_indResult(statistic=-4.1556316361449195, pvalue=4.084805733969806e-05)\u001b[0m\n",
            "t-test between groups group A and group E:\n",
            "\u001b[32mTtest_indResult(statistic=-4.2234736631970105, pvalue=3.483278064499439e-05)\u001b[0m\n",
            "t-test between groups group D and group E:\n",
            "Ttest_indResult(statistic=-0.8239736571520918, pvalue=0.4104455517392258)\n",
            "------------------------------------------------\n",
            "Comparisons for variable: reading score\n",
            "------------------------------------------------\n",
            "t-test between groups group B and group C:\n",
            "Ttest_indResult(statistic=-1.3223156212901772, pvalue=0.1866592809035069)\n",
            "t-test between groups group B and group A:\n",
            "Ttest_indResult(statistic=1.3633682262027682, pvalue=0.1738735513443721)\n",
            "t-test between groups group B and group D:\n",
            "Ttest_indResult(statistic=-1.9451563636864795, pvalue=0.0523786206559701)\n",
            "t-test between groups group B and group E:\n",
            "\u001b[32mTtest_indResult(statistic=-3.386066945409153, pvalue=0.0007951618495240944)\u001b[0m\n",
            "t-test between groups group C and group A:\n",
            "\u001b[32mTtest_indResult(statistic=2.575432218066352, pvalue=0.010364398025471079)\u001b[0m\n",
            "t-test between groups group C and group D:\n",
            "Ttest_indResult(statistic=-0.7970109316408917, pvalue=0.425771382113019)\n",
            "t-test between groups group C and group E:\n",
            "\u001b[32mTtest_indResult(statistic=-2.7133018645371685, pvalue=0.0069132842804986595)\u001b[0m\n",
            "t-test between groups group A and group D:\n",
            "\u001b[32mTtest_indResult(statistic=-3.0468548573461187, pvalue=0.002488654464332207)\u001b[0m\n",
            "t-test between groups group A and group E:\n",
            "\u001b[32mTtest_indResult(statistic=-4.071106227981414, pvalue=6.463395931833847e-05)\u001b[0m\n",
            "t-test between groups group D and group E:\n",
            "\u001b[32mTtest_indResult(statistic=-2.0106479406031794, pvalue=0.045033306431345586)\u001b[0m\n"
          ],
          "name": "stdout"
        }
      ]
    },
    {
      "cell_type": "markdown",
      "metadata": {
        "id": "aUf51dPVODp-"
      },
      "source": [
        "We can see the significant differences highlighted in green."
      ]
    },
    {
      "cell_type": "code",
      "metadata": {
        "colab": {
          "base_uri": "https://localhost:8080/",
          "height": 142
        },
        "id": "WNR_AKjmK9E_",
        "outputId": "1314828c-f681-477f-f502-7439af129d73"
      },
      "source": [
        "sp.groupby(\"gender\").mean()"
      ],
      "execution_count": null,
      "outputs": [
        {
          "output_type": "execute_result",
          "data": {
            "text/html": [
              "<div>\n",
              "<style scoped>\n",
              "    .dataframe tbody tr th:only-of-type {\n",
              "        vertical-align: middle;\n",
              "    }\n",
              "\n",
              "    .dataframe tbody tr th {\n",
              "        vertical-align: top;\n",
              "    }\n",
              "\n",
              "    .dataframe thead th {\n",
              "        text-align: right;\n",
              "    }\n",
              "</style>\n",
              "<table border=\"1\" class=\"dataframe\">\n",
              "  <thead>\n",
              "    <tr style=\"text-align: right;\">\n",
              "      <th></th>\n",
              "      <th>math score</th>\n",
              "      <th>reading score</th>\n",
              "      <th>writing score</th>\n",
              "      <th>total score</th>\n",
              "    </tr>\n",
              "    <tr>\n",
              "      <th>gender</th>\n",
              "      <th></th>\n",
              "      <th></th>\n",
              "      <th></th>\n",
              "      <th></th>\n",
              "    </tr>\n",
              "  </thead>\n",
              "  <tbody>\n",
              "    <tr>\n",
              "      <th>female</th>\n",
              "      <td>63.633205</td>\n",
              "      <td>72.608108</td>\n",
              "      <td>72.467181</td>\n",
              "      <td>208.708494</td>\n",
              "    </tr>\n",
              "    <tr>\n",
              "      <th>male</th>\n",
              "      <td>68.728216</td>\n",
              "      <td>65.473029</td>\n",
              "      <td>63.311203</td>\n",
              "      <td>197.512448</td>\n",
              "    </tr>\n",
              "  </tbody>\n",
              "</table>\n",
              "</div>"
            ],
            "text/plain": [
              "        math score  reading score  writing score  total score\n",
              "gender                                                       \n",
              "female   63.633205      72.608108      72.467181   208.708494\n",
              "male     68.728216      65.473029      63.311203   197.512448"
            ]
          },
          "metadata": {
            "tags": []
          },
          "execution_count": 16
        }
      ]
    },
    {
      "cell_type": "code",
      "metadata": {
        "colab": {
          "base_uri": "https://localhost:8080/",
          "height": 350
        },
        "id": "Ze2helWOLBJw",
        "outputId": "d758c74a-82c8-4e18-b665-14f109102578"
      },
      "source": [
        "plt.figure(figsize=(18,5))\n",
        "\n",
        "plt.subplot(1,4,1)\n",
        "sns.barplot(sp[\"gender\"], sp[\"math score\"])\n",
        "plt.title(\"average math\")\n",
        "\n",
        "plt.subplot(1,4,2)\n",
        "sns.barplot(sp[\"gender\"], sp[\"reading score\"])\n",
        "plt.title(\"average reading\")\n",
        "\n",
        "plt.subplot(1,4,3)\n",
        "sns.barplot(sp[\"gender\"], sp[\"writing score\"])\n",
        "plt.title(\"average writing\")\n",
        "\n",
        "plt.subplot(1,4,4)\n",
        "sns.barplot(sp[\"gender\"], sp[\"total score\"])\n",
        "plt.title(\"average total\")\n",
        "\n",
        "plt.show()"
      ],
      "execution_count": null,
      "outputs": [
        {
          "output_type": "display_data",
          "data": {
            "image/png": "[encoded data removed]",
            "text/plain": [
              "<Figure size 1296x360 with 4 Axes>"
            ]
          },
          "metadata": {
            "tags": [],
            "needs_background": "light"
          }
        }
      ]
    },
    {
      "cell_type": "markdown",
      "metadata": {
        "id": "wlh1cwxwLGkj"
      },
      "source": [
        "Looks like males tend to do better in math, while females tend to do better in reading, writing, and total."
      ]
    },
    {
      "cell_type": "code",
      "metadata": {
        "colab": {
          "base_uri": "https://localhost:8080/"
        },
        "id": "Ed93PkWsOO93",
        "outputId": "5d6d3a3f-57fe-43fe-d5c4-f08f36a889f4"
      },
      "source": [
        "# Test whether group differences are significant\n",
        "gendergroups = sp[\"gender\"].unique()\n",
        "gendergrouped_df = sp.groupby(\"gender\")\n",
        "for var in [\"math score\", \"writing score\", \"reading score\"]:\n",
        "    print(\"------------------------------------------------\")\n",
        "    print(\"Comparisons for variable: {}\".format(var))\n",
        "    print(\"------------------------------------------------\")\n",
        "    for i in range(0, len(gendergroups)):\n",
        "        for j in range(i+1, len(gendergroups)):\n",
        "            print(\"t-test between groups {0} and {1}:\".format(gendergroups[i], gendergroups[j]))\n",
        "            if stats.ttest_ind(sp[sp[\"gender\"]==gendergroups[i]][var], sp[sp[\"gender\"]==gendergroups[j]][var])[1]<0.05:\n",
        "              print(colored(stats.ttest_ind(\n",
        "                sp[sp[\"gender\"]==gendergroups[i]][var], \n",
        "                sp[sp[\"gender\"]==gendergroups[j]][var]\n",
        "                ), 'green'))\n",
        "            else:\n",
        "              print(stats.ttest_ind(sp[sp[\"gender\"]==gendergroups[i]][var], sp[sp[\"gender\"]==gendergroups[j]][var]))"
      ],
      "execution_count": null,
      "outputs": [
        {
          "output_type": "stream",
          "text": [
            "------------------------------------------------\n",
            "Comparisons for variable: math score\n",
            "------------------------------------------------\n",
            "t-test between groups female and male:\n",
            "\u001b[32mTtest_indResult(statistic=-5.383245869828983, pvalue=9.120185549328822e-08)\u001b[0m\n",
            "------------------------------------------------\n",
            "Comparisons for variable: writing score\n",
            "------------------------------------------------\n",
            "t-test between groups female and male:\n",
            "\u001b[32mTtest_indResult(statistic=9.979557910004507, pvalue=2.019877706867934e-22)\u001b[0m\n",
            "------------------------------------------------\n",
            "Comparisons for variable: reading score\n",
            "------------------------------------------------\n",
            "t-test between groups female and male:\n",
            "\u001b[32mTtest_indResult(statistic=7.959308005187657, pvalue=4.680538743933289e-15)\u001b[0m\n"
          ],
          "name": "stdout"
        }
      ]
    },
    {
      "cell_type": "code",
      "metadata": {
        "id": "DfSur9FEOi2q"
      },
      "source": [
        "All are significant differences."
      ],
      "execution_count": null,
      "outputs": []
    },
    {
      "cell_type": "code",
      "metadata": {
        "colab": {
          "base_uri": "https://localhost:8080/",
          "height": 266
        },
        "id": "BUN37FGtLbtw",
        "outputId": "03e4c925-7d99-4537-9b63-87bb2b7a9178"
      },
      "source": [
        "sp.groupby(\"parental level of education\").mean()"
      ],
      "execution_count": null,
      "outputs": [
        {
          "output_type": "execute_result",
          "data": {
            "text/html": [
              "<div>\n",
              "<style scoped>\n",
              "    .dataframe tbody tr th:only-of-type {\n",
              "        vertical-align: middle;\n",
              "    }\n",
              "\n",
              "    .dataframe tbody tr th {\n",
              "        vertical-align: top;\n",
              "    }\n",
              "\n",
              "    .dataframe thead th {\n",
              "        text-align: right;\n",
              "    }\n",
              "</style>\n",
              "<table border=\"1\" class=\"dataframe\">\n",
              "  <thead>\n",
              "    <tr style=\"text-align: right;\">\n",
              "      <th></th>\n",
              "      <th>math score</th>\n",
              "      <th>reading score</th>\n",
              "      <th>writing score</th>\n",
              "      <th>total score</th>\n",
              "    </tr>\n",
              "    <tr>\n",
              "      <th>parental level of education</th>\n",
              "      <th></th>\n",
              "      <th></th>\n",
              "      <th></th>\n",
              "      <th></th>\n",
              "    </tr>\n",
              "  </thead>\n",
              "  <tbody>\n",
              "    <tr>\n",
              "      <th>associate's degree</th>\n",
              "      <td>67.882883</td>\n",
              "      <td>70.927928</td>\n",
              "      <td>69.896396</td>\n",
              "      <td>208.707207</td>\n",
              "    </tr>\n",
              "    <tr>\n",
              "      <th>bachelor's degree</th>\n",
              "      <td>69.389831</td>\n",
              "      <td>73.000000</td>\n",
              "      <td>73.381356</td>\n",
              "      <td>215.771186</td>\n",
              "    </tr>\n",
              "    <tr>\n",
              "      <th>high school</th>\n",
              "      <td>62.137755</td>\n",
              "      <td>64.704082</td>\n",
              "      <td>62.448980</td>\n",
              "      <td>189.290816</td>\n",
              "    </tr>\n",
              "    <tr>\n",
              "      <th>master's degree</th>\n",
              "      <td>69.745763</td>\n",
              "      <td>75.372881</td>\n",
              "      <td>75.677966</td>\n",
              "      <td>220.796610</td>\n",
              "    </tr>\n",
              "    <tr>\n",
              "      <th>some college</th>\n",
              "      <td>67.128319</td>\n",
              "      <td>69.460177</td>\n",
              "      <td>68.840708</td>\n",
              "      <td>205.429204</td>\n",
              "    </tr>\n",
              "    <tr>\n",
              "      <th>some high school</th>\n",
              "      <td>63.497207</td>\n",
              "      <td>66.938547</td>\n",
              "      <td>64.888268</td>\n",
              "      <td>195.324022</td>\n",
              "    </tr>\n",
              "  </tbody>\n",
              "</table>\n",
              "</div>"
            ],
            "text/plain": [
              "                             math score  ...  total score\n",
              "parental level of education              ...             \n",
              "associate's degree            67.882883  ...   208.707207\n",
              "bachelor's degree             69.389831  ...   215.771186\n",
              "high school                   62.137755  ...   189.290816\n",
              "master's degree               69.745763  ...   220.796610\n",
              "some college                  67.128319  ...   205.429204\n",
              "some high school              63.497207  ...   195.324022\n",
              "\n",
              "[6 rows x 4 columns]"
            ]
          },
          "metadata": {
            "tags": []
          },
          "execution_count": 18
        }
      ]
    },
    {
      "cell_type": "code",
      "metadata": {
        "colab": {
          "base_uri": "https://localhost:8080/",
          "height": 433
        },
        "id": "0WNl-Y5pLVGK",
        "outputId": "d34c7aa0-3fdd-462d-82ba-dc7659a644d0"
      },
      "source": [
        "plt.figure(figsize=(18,5))\n",
        "\n",
        "plt.subplot(1,4,1)\n",
        "sns.barplot(sp[\"parental level of education\"], sp[\"math score\"])\n",
        "plt.title(\"average math\")\n",
        "plt.xticks(rotation=90)\n",
        "\n",
        "plt.subplot(1,4,2)\n",
        "sns.barplot(sp[\"parental level of education\"], sp[\"reading score\"])\n",
        "plt.title(\"average reading\")\n",
        "plt.xticks(rotation=90)\n",
        "\n",
        "plt.subplot(1,4,3)\n",
        "sns.barplot(sp[\"parental level of education\"], sp[\"writing score\"])\n",
        "plt.title(\"average writing\")\n",
        "plt.xticks(rotation=90)\n",
        "\n",
        "plt.subplot(1,4,4)\n",
        "sns.barplot(sp[\"parental level of education\"], sp[\"total score\"])\n",
        "plt.title(\"average total\")\n",
        "plt.xticks(rotation=90)\n",
        "\n",
        "plt.show()"
      ],
      "execution_count": null,
      "outputs": [
        {
          "output_type": "display_data",
          "data": {
            "image/png": "[encoded data removed]",
            "text/plain": [
              "<Figure size 1296x360 with 4 Axes>"
            ]
          },
          "metadata": {
            "tags": [],
            "needs_background": "light"
          }
        }
      ]
    },
    {
      "cell_type": "markdown",
      "metadata": {
        "id": "mTTBITMSLVGL"
      },
      "source": [
        "Looks like masters degree does the best on avg, and high school does the worst."
      ]
    },
    {
      "cell_type": "code",
      "metadata": {
        "colab": {
          "base_uri": "https://localhost:8080/"
        },
        "id": "Eod60dZ7OneO",
        "outputId": "9c1224b3-6adc-441a-8fe3-dc23eca7b550"
      },
      "source": [
        "# Test whether group differences are significant\n",
        "parentgroups = sp[\"parental level of education\"].unique()\n",
        "parentgrouped_df = sp.groupby(\"parental level of education\")\n",
        "for var in [\"math score\", \"writing score\", \"reading score\"]:\n",
        "    print(\"------------------------------------------------\")\n",
        "    print(\"Comparisons for variable: {}\".format(var))\n",
        "    print(\"------------------------------------------------\")\n",
        "    for i in range(0, len(parentgroups)):\n",
        "        for j in range(i+1, len(parentgroups)):\n",
        "            print(\"t-test between groups {0} and {1}:\".format(parentgroups[i], parentgroups[j]))\n",
        "            if stats.ttest_ind(sp[sp[\"parental level of education\"]==parentgroups[i]][var], sp[sp[\"parental level of education\"]==parentgroups[j]][var])[1]<0.05:\n",
        "              print(colored(stats.ttest_ind(\n",
        "                sp[sp[\"parental level of education\"]==parentgroups[i]][var], \n",
        "                sp[sp[\"parental level of education\"]==parentgroups[j]][var]\n",
        "                ), 'green'))\n",
        "            else:\n",
        "              print(stats.ttest_ind(sp[sp[\"parental level of education\"]==parentgroups[i]][var], sp[sp[\"parental level of education\"]==parentgroups[j]][var]))"
      ],
      "execution_count": null,
      "outputs": [
        {
          "output_type": "stream",
          "text": [
            "------------------------------------------------\n",
            "Comparisons for variable: math score\n",
            "------------------------------------------------\n",
            "t-test between groups bachelor's degree and some college:\n",
            "Ttest_indResult(statistic=1.3702352829617477, pvalue=0.17151224218471559)\n",
            "t-test between groups bachelor's degree and master's degree:\n",
            "Ttest_indResult(statistic=-0.14868196568849312, pvalue=0.8819757824867702)\n",
            "t-test between groups bachelor's degree and associate's degree:\n",
            "Ttest_indResult(statistic=0.8786641889793243, pvalue=0.38020757818036177)\n",
            "t-test between groups bachelor's degree and high school:\n",
            "\u001b[32mTtest_indResult(statistic=4.236143622484822, pvalue=2.9965345853843376e-05)\u001b[0m\n",
            "t-test between groups bachelor's degree and some high school:\n",
            "\u001b[32mTtest_indResult(statistic=3.196718602676573, pvalue=0.0015409192922812146)\u001b[0m\n",
            "t-test between groups some college and master's degree:\n",
            "Ttest_indResult(statistic=-1.2356334215824571, pvalue=0.21761956810347416)\n",
            "t-test between groups some college and associate's degree:\n",
            "Ttest_indResult(statistic=-0.5426842696247527, pvalue=0.5876182809234072)\n",
            "t-test between groups some college and high school:\n",
            "\u001b[32mTtest_indResult(statistic=3.5461079495681163, pvalue=0.00043498004192453146)\u001b[0m\n",
            "t-test between groups some college and some high school:\n",
            "\u001b[32mTtest_indResult(statistic=2.4117046231407633, pvalue=0.016324361572645503)\u001b[0m\n",
            "t-test between groups master's degree and associate's degree:\n",
            "Ttest_indResult(statistic=0.8411229688563471, pvalue=0.4009993636124658)\n",
            "t-test between groups master's degree and high school:\n",
            "\u001b[32mTtest_indResult(statistic=3.4893759321890823, pvalue=0.000570929230228812)\u001b[0m\n",
            "t-test between groups master's degree and some high school:\n",
            "\u001b[32mTtest_indResult(statistic=2.6442572081925526, pvalue=0.008736228790471057)\u001b[0m\n",
            "t-test between groups associate's degree and high school:\n",
            "\u001b[32mTtest_indResult(statistic=3.9481325318265013, pvalue=9.247314274963044e-05)\u001b[0m\n",
            "t-test between groups associate's degree and some high school:\n",
            "\u001b[32mTtest_indResult(statistic=2.820053979930256, pvalue=0.005041081492906143)\u001b[0m\n",
            "t-test between groups high school and some high school:\n",
            "Ttest_indResult(statistic=-0.8640629490772553, pvalue=0.388108610360687)\n",
            "------------------------------------------------\n",
            "Comparisons for variable: writing score\n",
            "------------------------------------------------\n",
            "t-test between groups bachelor's degree and some college:\n",
            "\u001b[32mTtest_indResult(statistic=2.6803314684632196, pvalue=0.00771101202367254)\u001b[0m\n",
            "t-test between groups bachelor's degree and master's degree:\n",
            "Ttest_indResult(statistic=-0.9998741306804844, pvalue=0.3187519641464658)\n",
            "t-test between groups bachelor's degree and associate's degree:\n",
            "\u001b[32mTtest_indResult(statistic=2.1159296639133762, pvalue=0.03508162451719667)\u001b[0m\n",
            "t-test between groups bachelor's degree and high school:\n",
            "\u001b[32mTtest_indResult(statistic=6.547380937127048, pvalue=2.4076253789515874e-10)\u001b[0m\n",
            "t-test between groups bachelor's degree and some high school:\n",
            "\u001b[32mTtest_indResult(statistic=4.667733097498242, pvalue=4.628198526834338e-06)\u001b[0m\n",
            "t-test between groups some college and master's degree:\n",
            "\u001b[32mTtest_indResult(statistic=-3.1687690632394907, pvalue=0.0016985933135959495)\u001b[0m\n",
            "t-test between groups some college and associate's degree:\n",
            "Ttest_indResult(statistic=-0.7615968643953912, pvalue=0.44670316603036575)\n",
            "t-test between groups some college and high school:\n",
            "\u001b[32mTtest_indResult(statistic=4.488520877492127, pvalue=9.275017802620877e-06)\u001b[0m\n",
            "t-test between groups some college and some high school:\n",
            "\u001b[32mTtest_indResult(statistic=2.5757211403792417, pvalue=0.010358529086081357)\u001b[0m\n",
            "t-test between groups master's degree and associate's degree:\n",
            "\u001b[32mTtest_indResult(statistic=2.78124154906855, pvalue=0.00578403270525775)\u001b[0m\n",
            "t-test between groups master's degree and high school:\n",
            "\u001b[32mTtest_indResult(statistic=6.360904883721531, pvalue=9.326930296880332e-10)\u001b[0m\n",
            "t-test between groups master's degree and some high school:\n",
            "\u001b[32mTtest_indResult(statistic=4.707583817143559, pvalue=4.275465153074631e-06)\u001b[0m\n",
            "t-test between groups associate's degree and high school:\n",
            "\u001b[32mTtest_indResult(statistic=5.348725635626432, pvalue=1.4650545536741998e-07)\u001b[0m\n",
            "t-test between groups associate's degree and some high school:\n",
            "\u001b[32mTtest_indResult(statistic=3.3317223453475715, pvalue=0.0009435990258795855)\u001b[0m\n",
            "t-test between groups high school and some high school:\n",
            "Ttest_indResult(statistic=-1.5838885273076473, pvalue=0.11406653932963291)\n",
            "------------------------------------------------\n",
            "Comparisons for variable: reading score\n",
            "------------------------------------------------\n",
            "t-test between groups bachelor's degree and some college:\n",
            "\u001b[32mTtest_indResult(statistic=2.2048821209085077, pvalue=0.028127555314401052)\u001b[0m\n",
            "t-test between groups bachelor's degree and master's degree:\n",
            "Ttest_indResult(statistic=-1.0540858949475984, pvalue=0.293296751317879)\n",
            "t-test between groups bachelor's degree and associate's degree:\n",
            "Ttest_indResult(statistic=1.2977969850452833, pvalue=0.19524206483091092)\n",
            "t-test between groups bachelor's degree and high school:\n",
            "\u001b[32mTtest_indResult(statistic=5.017577900835298, pvalue=8.804250310784477e-07)\u001b[0m\n",
            "t-test between groups bachelor's degree and some high school:\n",
            "\u001b[32mTtest_indResult(statistic=3.4039270673798745, pvalue=0.0007561971719730451)\u001b[0m\n",
            "t-test between groups some college and master's degree:\n",
            "\u001b[32mTtest_indResult(statistic=-2.888843374950649, pvalue=0.004165440800640354)\u001b[0m\n",
            "t-test between groups some college and associate's degree:\n",
            "Ttest_indResult(statistic=-1.11231882169149, pvalue=0.26660028539980146)\n",
            "t-test between groups some college and high school:\n",
            "\u001b[32mTtest_indResult(statistic=3.4578427683620334, pvalue=0.0006001048481252139)\u001b[0m\n",
            "t-test between groups some college and some high school:\n",
            "Ttest_indResult(statistic=1.714161972758909, pvalue=0.08726786856243877)\n",
            "t-test between groups master's degree and associate's degree:\n",
            "\u001b[32mTtest_indResult(statistic=2.1912015759838686, pvalue=0.02926414570972208)\u001b[0m\n",
            "t-test between groups master's degree and high school:\n",
            "\u001b[32mTtest_indResult(statistic=5.113158728723477, pvalue=6.257558119816884e-07)\u001b[0m\n",
            "t-test between groups master's degree and some high school:\n",
            "\u001b[32mTtest_indResult(statistic=3.7261574122231513, pvalue=0.00024334552617191513)\u001b[0m\n",
            "t-test between groups associate's degree and high school:\n",
            "\u001b[32mTtest_indResult(statistic=4.538021419898997, pvalue=7.442167797135797e-06)\u001b[0m\n",
            "t-test between groups associate's degree and some high school:\n",
            "\u001b[32mTtest_indResult(statistic=2.7183602204037927, pvalue=0.006846770119677965)\u001b[0m\n",
            "t-test between groups high school and some high school:\n",
            "Ttest_indResult(statistic=-1.461284757591555, pvalue=0.1447791955248275)\n"
          ],
          "name": "stdout"
        }
      ]
    },
    {
      "cell_type": "markdown",
      "metadata": {
        "id": "VzuZck7sO_8r"
      },
      "source": [
        "Again, sig differences in green."
      ]
    },
    {
      "cell_type": "markdown",
      "metadata": {
        "id": "4gsLV3vpIXvz"
      },
      "source": [
        "2. Are there any differences between the lunch types with respect to student performances in exams? If there are, how do you explain this?"
      ]
    },
    {
      "cell_type": "code",
      "metadata": {
        "colab": {
          "base_uri": "https://localhost:8080/",
          "height": 142
        },
        "id": "dFbJMCUVPMrG",
        "outputId": "291b774f-17a2-46bf-e996-3631f4828af0"
      },
      "source": [
        "sp.groupby(\"lunch\").mean()"
      ],
      "execution_count": null,
      "outputs": [
        {
          "output_type": "execute_result",
          "data": {
            "text/html": [
              "<div>\n",
              "<style scoped>\n",
              "    .dataframe tbody tr th:only-of-type {\n",
              "        vertical-align: middle;\n",
              "    }\n",
              "\n",
              "    .dataframe tbody tr th {\n",
              "        vertical-align: top;\n",
              "    }\n",
              "\n",
              "    .dataframe thead th {\n",
              "        text-align: right;\n",
              "    }\n",
              "</style>\n",
              "<table border=\"1\" class=\"dataframe\">\n",
              "  <thead>\n",
              "    <tr style=\"text-align: right;\">\n",
              "      <th></th>\n",
              "      <th>math score</th>\n",
              "      <th>reading score</th>\n",
              "      <th>writing score</th>\n",
              "      <th>total score</th>\n",
              "    </tr>\n",
              "    <tr>\n",
              "      <th>lunch</th>\n",
              "      <th></th>\n",
              "      <th></th>\n",
              "      <th></th>\n",
              "      <th></th>\n",
              "    </tr>\n",
              "  </thead>\n",
              "  <tbody>\n",
              "    <tr>\n",
              "      <th>free/reduced</th>\n",
              "      <td>58.921127</td>\n",
              "      <td>64.653521</td>\n",
              "      <td>63.022535</td>\n",
              "      <td>186.597183</td>\n",
              "    </tr>\n",
              "    <tr>\n",
              "      <th>standard</th>\n",
              "      <td>70.034109</td>\n",
              "      <td>71.654264</td>\n",
              "      <td>70.823256</td>\n",
              "      <td>212.511628</td>\n",
              "    </tr>\n",
              "  </tbody>\n",
              "</table>\n",
              "</div>"
            ],
            "text/plain": [
              "              math score  reading score  writing score  total score\n",
              "lunch                                                              \n",
              "free/reduced   58.921127      64.653521      63.022535   186.597183\n",
              "standard       70.034109      71.654264      70.823256   212.511628"
            ]
          },
          "metadata": {
            "tags": []
          },
          "execution_count": 36
        }
      ]
    },
    {
      "cell_type": "code",
      "metadata": {
        "colab": {
          "base_uri": "https://localhost:8080/",
          "height": 404
        },
        "id": "TXNP7oSoPMrG",
        "outputId": "d4f4508d-1fbe-44d2-c62b-bb3a21d99eec"
      },
      "source": [
        "plt.figure(figsize=(18,5))\n",
        "\n",
        "plt.subplot(1,4,1)\n",
        "sns.barplot(sp[\"lunch\"], sp[\"math score\"])\n",
        "plt.title(\"average math\")\n",
        "plt.xticks(rotation=90)\n",
        "\n",
        "plt.subplot(1,4,2)\n",
        "sns.barplot(sp[\"lunch\"], sp[\"reading score\"])\n",
        "plt.title(\"average reading\")\n",
        "plt.xticks(rotation=90)\n",
        "\n",
        "plt.subplot(1,4,3)\n",
        "sns.barplot(sp[\"lunch\"], sp[\"writing score\"])\n",
        "plt.title(\"average writing\")\n",
        "plt.xticks(rotation=90)\n",
        "\n",
        "plt.subplot(1,4,4)\n",
        "sns.barplot(sp[\"lunch\"], sp[\"total score\"])\n",
        "plt.title(\"average total\")\n",
        "plt.xticks(rotation=90)\n",
        "\n",
        "plt.show()"
      ],
      "execution_count": null,
      "outputs": [
        {
          "output_type": "display_data",
          "data": {
            "image/png": "[encoded data removed]",
            "text/plain": [
              "<Figure size 1296x360 with 4 Axes>"
            ]
          },
          "metadata": {
            "tags": [],
            "needs_background": "light"
          }
        }
      ]
    },
    {
      "cell_type": "markdown",
      "metadata": {
        "id": "TP5ux-Q0PMrG"
      },
      "source": [
        "Looks like standard lunch  does the best on avg across the board."
      ]
    },
    {
      "cell_type": "code",
      "metadata": {
        "colab": {
          "base_uri": "https://localhost:8080/"
        },
        "id": "R00wyFPIPMrG",
        "outputId": "335f9df6-8697-4d06-82c3-f52a35252750"
      },
      "source": [
        "# Test whether group differences are significant\n",
        "lunchgroups = sp[\"lunch\"].unique()\n",
        "lunchgrouped_df = sp.groupby(\"lunch\")\n",
        "for var in [\"math score\", \"writing score\", \"reading score\"]:\n",
        "    print(\"------------------------------------------------\")\n",
        "    print(\"Comparisons for variable: {}\".format(var))\n",
        "    print(\"------------------------------------------------\")\n",
        "    for i in range(0, len(lunchgroups)):\n",
        "        for j in range(i+1, len(lunchgroups)):\n",
        "            print(\"t-test between groups {0} and {1}:\".format(lunchgroups[i], lunchgroups[j]))\n",
        "            if stats.ttest_ind(sp[sp[\"lunch\"]==lunchgroups[i]][var], sp[sp[\"lunch\"]==lunchgroups[j]][var])[1]<0.05:\n",
        "              print(colored(stats.ttest_ind(\n",
        "                sp[sp[\"lunch\"]==lunchgroups[i]][var], \n",
        "                sp[sp[\"lunch\"]==lunchgroups[j]][var]\n",
        "                ), 'green'))\n",
        "            else:\n",
        "              print(stats.ttest_ind(sp[sp[\"lunch\"]==lunchgroups[i]][var], sp[sp[\"lunch\"]==lunchgroups[j]][var]))"
      ],
      "execution_count": null,
      "outputs": [
        {
          "output_type": "stream",
          "text": [
            "------------------------------------------------\n",
            "Comparisons for variable: math score\n",
            "------------------------------------------------\n",
            "t-test between groups standard and free/reduced:\n",
            "\u001b[32mTtest_indResult(statistic=11.837180472914612, pvalue=2.4131955993137074e-30)\u001b[0m\n",
            "------------------------------------------------\n",
            "Comparisons for variable: writing score\n",
            "------------------------------------------------\n",
            "t-test between groups standard and free/reduced:\n",
            "\u001b[32mTtest_indResult(statistic=8.009784197834758, pvalue=3.1861895831664765e-15)\u001b[0m\n",
            "------------------------------------------------\n",
            "Comparisons for variable: reading score\n",
            "------------------------------------------------\n",
            "t-test between groups standard and free/reduced:\n",
            "\u001b[32mTtest_indResult(statistic=7.451056467473455, pvalue=2.0027966545279011e-13)\u001b[0m\n"
          ],
          "name": "stdout"
        }
      ]
    },
    {
      "cell_type": "markdown",
      "metadata": {
        "id": "JglW11m_PppQ"
      },
      "source": [
        "All differences are significant - likely due to wealthier children having significantly more opportunities to excel academically - with private tutors, more home financial stability, etc."
      ]
    },
    {
      "cell_type": "markdown",
      "metadata": {
        "id": "hWzBVgj6IcPl"
      },
      "source": [
        "3. Does the test preparation course seem to have an effect on the exam performances?\n"
      ]
    },
    {
      "cell_type": "code",
      "metadata": {
        "colab": {
          "base_uri": "https://localhost:8080/",
          "height": 142
        },
        "id": "MHblewzUQDdr",
        "outputId": "039ac7a2-6c98-465e-9a37-bbf1feba65d9"
      },
      "source": [
        "sp.groupby(\"test preparation course\").mean()"
      ],
      "execution_count": null,
      "outputs": [
        {
          "output_type": "execute_result",
          "data": {
            "text/html": [
              "<div>\n",
              "<style scoped>\n",
              "    .dataframe tbody tr th:only-of-type {\n",
              "        vertical-align: middle;\n",
              "    }\n",
              "\n",
              "    .dataframe tbody tr th {\n",
              "        vertical-align: top;\n",
              "    }\n",
              "\n",
              "    .dataframe thead th {\n",
              "        text-align: right;\n",
              "    }\n",
              "</style>\n",
              "<table border=\"1\" class=\"dataframe\">\n",
              "  <thead>\n",
              "    <tr style=\"text-align: right;\">\n",
              "      <th></th>\n",
              "      <th>math score</th>\n",
              "      <th>reading score</th>\n",
              "      <th>writing score</th>\n",
              "      <th>total score</th>\n",
              "    </tr>\n",
              "    <tr>\n",
              "      <th>test preparation course</th>\n",
              "      <th></th>\n",
              "      <th></th>\n",
              "      <th></th>\n",
              "      <th></th>\n",
              "    </tr>\n",
              "  </thead>\n",
              "  <tbody>\n",
              "    <tr>\n",
              "      <th>completed</th>\n",
              "      <td>69.695531</td>\n",
              "      <td>73.893855</td>\n",
              "      <td>74.418994</td>\n",
              "      <td>218.008380</td>\n",
              "    </tr>\n",
              "    <tr>\n",
              "      <th>none</th>\n",
              "      <td>64.077882</td>\n",
              "      <td>66.534268</td>\n",
              "      <td>64.504673</td>\n",
              "      <td>195.116822</td>\n",
              "    </tr>\n",
              "  </tbody>\n",
              "</table>\n",
              "</div>"
            ],
            "text/plain": [
              "                         math score  reading score  writing score  total score\n",
              "test preparation course                                                       \n",
              "completed                 69.695531      73.893855      74.418994   218.008380\n",
              "none                      64.077882      66.534268      64.504673   195.116822"
            ]
          },
          "metadata": {
            "tags": []
          },
          "execution_count": 39
        }
      ]
    },
    {
      "cell_type": "code",
      "metadata": {
        "colab": {
          "base_uri": "https://localhost:8080/",
          "height": 392
        },
        "id": "qSVETfyhQDdr",
        "outputId": "3ffe7536-e275-480e-e003-5e7408feab1d"
      },
      "source": [
        "plt.figure(figsize=(18,5))\n",
        "\n",
        "plt.subplot(1,4,1)\n",
        "sns.barplot(sp[\"test preparation course\"], sp[\"math score\"])\n",
        "plt.title(\"average math\")\n",
        "plt.xticks(rotation=90)\n",
        "\n",
        "plt.subplot(1,4,2)\n",
        "sns.barplot(sp[\"test preparation course\"], sp[\"reading score\"])\n",
        "plt.title(\"average reading\")\n",
        "plt.xticks(rotation=90)\n",
        "\n",
        "plt.subplot(1,4,3)\n",
        "sns.barplot(sp[\"test preparation course\"], sp[\"writing score\"])\n",
        "plt.title(\"average writing\")\n",
        "plt.xticks(rotation=90)\n",
        "\n",
        "plt.subplot(1,4,4)\n",
        "sns.barplot(sp[\"test preparation course\"], sp[\"total score\"])\n",
        "plt.title(\"average total\")\n",
        "plt.xticks(rotation=90)\n",
        "\n",
        "plt.show()"
      ],
      "execution_count": null,
      "outputs": [
        {
          "output_type": "display_data",
          "data": {
            "image/png": "[encoded data removed]",
            "text/plain": [
              "<Figure size 1296x360 with 4 Axes>"
            ]
          },
          "metadata": {
            "tags": [],
            "needs_background": "light"
          }
        }
      ]
    },
    {
      "cell_type": "markdown",
      "metadata": {
        "id": "DV8mJsaoQDdr"
      },
      "source": [
        "Looks like prep course does the best on avg across the board."
      ]
    },
    {
      "cell_type": "code",
      "metadata": {
        "colab": {
          "base_uri": "https://localhost:8080/"
        },
        "id": "Ctub00BYQDdr",
        "outputId": "073258ca-d3b7-4085-876d-c878659b8c76"
      },
      "source": [
        "# Test whether group differences are significant\n",
        "prepgroups = sp[\"test preparation course\"].unique()\n",
        "prepgrouped_df = sp.groupby(\"lunch\")\n",
        "for var in [\"math score\", \"writing score\", \"reading score\"]:\n",
        "    print(\"------------------------------------------------\")\n",
        "    print(\"Comparisons for variable: {}\".format(var))\n",
        "    print(\"------------------------------------------------\")\n",
        "    for i in range(0, len(prepgroups)):\n",
        "        for j in range(i+1, len(lunchgroups)):\n",
        "            print(\"t-test between groups {0} and {1}:\".format(prepgroups[i], prepgroups[j]))\n",
        "            if stats.ttest_ind(sp[sp[\"test preparation course\"]==prepgroups[i]][var], sp[sp[\"test preparation course\"]==prepgroups[j]][var])[1]<0.05:\n",
        "              print(colored(stats.ttest_ind(\n",
        "                sp[sp[\"test preparation course\"]==prepgroups[i]][var], \n",
        "                sp[sp[\"test preparation course\"]==prepgroups[j]][var]\n",
        "                ), 'green'))\n",
        "            else:\n",
        "              print(stats.ttest_ind(sp[sp[\"test preparation course\"]==prepgroups[i]][var], sp[sp[\"test preparation course\"]==prepgroups[j]][var]))"
      ],
      "execution_count": null,
      "outputs": [
        {
          "output_type": "stream",
          "text": [
            "------------------------------------------------\n",
            "Comparisons for variable: math score\n",
            "------------------------------------------------\n",
            "t-test between groups none and completed:\n",
            "\u001b[32mTtest_indResult(statistic=-5.704616417349102, pvalue=1.5359134607147415e-08)\u001b[0m\n",
            "------------------------------------------------\n",
            "Comparisons for variable: writing score\n",
            "------------------------------------------------\n",
            "t-test between groups none and completed:\n",
            "\u001b[32mTtest_indResult(statistic=-10.409173436808748, pvalue=3.68529173524572e-24)\u001b[0m\n",
            "------------------------------------------------\n",
            "Comparisons for variable: reading score\n",
            "------------------------------------------------\n",
            "t-test between groups none and completed:\n",
            "\u001b[32mTtest_indResult(statistic=-7.871663538941468, pvalue=9.081783336892205e-15)\u001b[0m\n"
          ],
          "name": "stdout"
        }
      ]
    },
    {
      "cell_type": "markdown",
      "metadata": {
        "id": "eXGKNGL1QDdr"
      },
      "source": [
        "All differences are significant."
      ]
    },
    {
      "cell_type": "markdown",
      "metadata": {
        "id": "H4IxS6i8Ifi7"
      },
      "source": [
        "4. Which two exam scores are most correlated with each other?"
      ]
    },
    {
      "cell_type": "code",
      "metadata": {
        "colab": {
          "base_uri": "https://localhost:8080/",
          "height": 173
        },
        "id": "5gyGAMa0QAjm",
        "outputId": "5512535c-b796-4017-fb3e-360047160b5d"
      },
      "source": [
        "sp.corr()"
      ],
      "execution_count": null,
      "outputs": [
        {
          "output_type": "execute_result",
          "data": {
            "text/html": [
              "<div>\n",
              "<style scoped>\n",
              "    .dataframe tbody tr th:only-of-type {\n",
              "        vertical-align: middle;\n",
              "    }\n",
              "\n",
              "    .dataframe tbody tr th {\n",
              "        vertical-align: top;\n",
              "    }\n",
              "\n",
              "    .dataframe thead th {\n",
              "        text-align: right;\n",
              "    }\n",
              "</style>\n",
              "<table border=\"1\" class=\"dataframe\">\n",
              "  <thead>\n",
              "    <tr style=\"text-align: right;\">\n",
              "      <th></th>\n",
              "      <th>math score</th>\n",
              "      <th>reading score</th>\n",
              "      <th>writing score</th>\n",
              "      <th>total score</th>\n",
              "    </tr>\n",
              "  </thead>\n",
              "  <tbody>\n",
              "    <tr>\n",
              "      <th>math score</th>\n",
              "      <td>1.000000</td>\n",
              "      <td>0.817580</td>\n",
              "      <td>0.802642</td>\n",
              "      <td>0.918746</td>\n",
              "    </tr>\n",
              "    <tr>\n",
              "      <th>reading score</th>\n",
              "      <td>0.817580</td>\n",
              "      <td>1.000000</td>\n",
              "      <td>0.954598</td>\n",
              "      <td>0.970331</td>\n",
              "    </tr>\n",
              "    <tr>\n",
              "      <th>writing score</th>\n",
              "      <td>0.802642</td>\n",
              "      <td>0.954598</td>\n",
              "      <td>1.000000</td>\n",
              "      <td>0.965667</td>\n",
              "    </tr>\n",
              "    <tr>\n",
              "      <th>total score</th>\n",
              "      <td>0.918746</td>\n",
              "      <td>0.970331</td>\n",
              "      <td>0.965667</td>\n",
              "      <td>1.000000</td>\n",
              "    </tr>\n",
              "  </tbody>\n",
              "</table>\n",
              "</div>"
            ],
            "text/plain": [
              "               math score  reading score  writing score  total score\n",
              "math score       1.000000       0.817580       0.802642     0.918746\n",
              "reading score    0.817580       1.000000       0.954598     0.970331\n",
              "writing score    0.802642       0.954598       1.000000     0.965667\n",
              "total score      0.918746       0.970331       0.965667     1.000000"
            ]
          },
          "metadata": {
            "tags": []
          },
          "execution_count": 42
        }
      ]
    },
    {
      "cell_type": "code",
      "metadata": {
        "colab": {
          "base_uri": "https://localhost:8080/",
          "height": 578
        },
        "id": "u2DGmGP0QwIH",
        "outputId": "84f8d5c5-48ef-407e-e468-beed347d56d2"
      },
      "source": [
        "corrmat_sp = sp.corr()\n",
        "plt.figure(figsize=(18,10))\n",
        "\n",
        "plt.subplot(1,2,2)\n",
        "# Draw the heat map using seaborn\n",
        "sns.heatmap(corrmat_sp, square=True, annot=True, linewidths=.5)\n",
        "plt.title(\"correlation matrix (scores)\")\n",
        "\n",
        "plt.show()"
      ],
      "execution_count": null,
      "outputs": [
        {
          "output_type": "display_data",
          "data": {
            "image/png": "[encoded data removed]",
            "text/plain": [
              "<Figure size 1296x720 with 2 Axes>"
            ]
          },
          "metadata": {
            "tags": [],
            "needs_background": "light"
          }
        }
      ]
    },
    {
      "cell_type": "markdown",
      "metadata": {
        "id": "ZAAdpiJORDNz"
      },
      "source": [
        "Not including the total score, the highest correlated scores are writing and reading, which make sense because they are taught together."
      ]
    },
    {
      "cell_type": "code",
      "metadata": {
        "id": "rlELPlH5RJxy"
      },
      "source": [
        ""
      ],
      "execution_count": null,
      "outputs": []
    }
  ]
}