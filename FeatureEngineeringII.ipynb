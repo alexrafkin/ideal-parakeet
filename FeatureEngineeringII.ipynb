{
  "nbformat": 4,
  "nbformat_minor": 0,
  "metadata": {
    "colab": {
      "name": "FeatureEngineeringII.ipynb",
      "provenance": [],
      "authorship_tag": "ABX9TyP7ZIeWKvAX3gJX0vpDx1Qm",
      "include_colab_link": true
    },
    "kernelspec": {
      "name": "python3",
      "display_name": "Python 3"
    }
  },
  "cells": [
    {
      "cell_type": "markdown",
      "metadata": {
        "id": "view-in-github",
        "colab_type": "text"
      },
      "source": [
        "<a href=\"https://colab.research.google.com/github/alexrafkin/ideal-parakeet/blob/main/FeatureEngineeringII.ipynb\" target=\"_parent\"><img src=\"https://colab.research.google.com/assets/colab-badge.svg\" alt=\"Open In Colab\"/></a>"
      ]
    },
    {
      "cell_type": "code",
      "metadata": {
        "id": "-V35AXq2kuAL"
      },
      "source": [
        "import pandas as pd\n",
        "import numpy as np\n",
        "import matplotlib\n",
        "import matplotlib.pyplot as plt\n",
        "import seaborn as sns\n",
        "import scipy.stats as stats\n",
        "from scipy.stats.mstats import winsorize\n",
        "import math\n",
        "from sklearn.preprocessing import StandardScaler\n",
        "from sklearn.decomposition import PCA\n",
        "from sqlalchemy import create_engine\n",
        "import warnings\n",
        "\n",
        "warnings.filterwarnings('ignore')\n",
        "\n",
        "postgres_user = 'dsbc_student'\n",
        "postgres_pw = '7*.8G9QH21'\n",
        "postgres_host = '142.93.121.174'\n",
        "postgres_port = '5432'\n",
        "postgres_db = 'useducation'\n",
        "\n",
        "engine = create_engine('postgresql://{}:{}@{}:{}/{}'.format(\n",
        "    postgres_user, postgres_pw, postgres_host, postgres_port, postgres_db))\n",
        "\n",
        "ed = pd.read_sql_query('select * from useducation',con=engine)\n",
        "engine.dispose()\n",
        "\n",
        "ed2=ed.copy()"
      ],
      "execution_count": null,
      "outputs": []
    },
    {
      "cell_type": "markdown",
      "metadata": {
        "id": "nSuuUvnaljIP"
      },
      "source": [
        "Don't forget to apply the most suitable missing-value-filling techniques you applied in the previous checkpoints to the data. You can provide your answers to the following questions after you have handled the missing values."
      ]
    },
    {
      "cell_type": "code",
      "metadata": {
        "id": "oXEJrEGHljZw"
      },
      "source": [
        "fill_list = [\"ENROLL\", \"TOTAL_REVENUE\", \"FEDERAL_REVENUE\",\n",
        "             \"STATE_REVENUE\", \"LOCAL_REVENUE\", \"TOTAL_EXPENDITURE\",\n",
        "             \"INSTRUCTION_EXPENDITURE\", \"SUPPORT_SERVICES_EXPENDITURE\",\n",
        "             \"OTHER_EXPENDITURE\", \"CAPITAL_OUTLAY_EXPENDITURE\", \"GRADES_PK_G\",\n",
        "             \"GRADES_KG_G\", \"GRADES_4_G\", \"GRADES_8_G\", \"GRADES_12_G\", \"GRADES_1_8_G\",\n",
        "             \"GRADES_9_12_G\", \"GRADES_ALL_G\"]\n",
        "\n",
        "states = ed[\"STATE\"].unique()\n",
        "\n",
        "for state in states:\n",
        "    ed.loc[ed[\"STATE\"] == state, fill_list] = ed.loc[ed[\"STATE\"] == state, fill_list].interpolate()\n",
        "\n",
        "# we drop the null values after interpolation\n",
        "ed.dropna(inplace=True)"
      ],
      "execution_count": null,
      "outputs": []
    },
    {
      "cell_type": "markdown",
      "metadata": {
        "id": "dqv2afF3lA9T"
      },
      "source": [
        "Say you want to understand the relationship between government expenditures and the students' overall success in math and reading."
      ]
    },
    {
      "cell_type": "markdown",
      "metadata": {
        "id": "biu1QPjZlEJw"
      },
      "source": [
        "1. Compute the average score for each row for all students weighted properly by grade. In other words, each row will have its own average. Notice that the number of students in the fourth grade isn't the same as the number of students in the eighth grade. So, you should appropriately weigh the scores.\n"
      ]
    },
    {
      "cell_type": "code",
      "metadata": {
        "id": "wClBVZIi5YkF"
      },
      "source": [
        "ed['avg_score'] = (ed['AVG_MATH_4_SCORE']*ed['GRADES_4_G']+ed['AVG_READING_4_SCORE']*ed['GRADES_4_G']+ed['AVG_MATH_8_SCORE']*ed['GRADES_8_G']+ed['AVG_READING_8_SCORE']*ed['GRADES_8_G'])/(2*ed['GRADES_4_G']+2*ed['GRADES_8_G'])"
      ],
      "execution_count": null,
      "outputs": []
    },
    {
      "cell_type": "code",
      "metadata": {
        "colab": {
          "base_uri": "https://localhost:8080/",
          "height": 224
        },
        "id": "R6EptfAB7nj7",
        "outputId": "a19ef85d-5a51-45c2-8366-b4647e79b9f6"
      },
      "source": [
        "ed.head()"
      ],
      "execution_count": null,
      "outputs": [
        {
          "output_type": "execute_result",
          "data": {
            "text/html": [
              "<div>\n",
              "<style scoped>\n",
              "    .dataframe tbody tr th:only-of-type {\n",
              "        vertical-align: middle;\n",
              "    }\n",
              "\n",
              "    .dataframe tbody tr th {\n",
              "        vertical-align: top;\n",
              "    }\n",
              "\n",
              "    .dataframe thead th {\n",
              "        text-align: right;\n",
              "    }\n",
              "</style>\n",
              "<table border=\"1\" class=\"dataframe\">\n",
              "  <thead>\n",
              "    <tr style=\"text-align: right;\">\n",
              "      <th></th>\n",
              "      <th>PRIMARY_KEY</th>\n",
              "      <th>STATE</th>\n",
              "      <th>YEAR</th>\n",
              "      <th>ENROLL</th>\n",
              "      <th>TOTAL_REVENUE</th>\n",
              "      <th>FEDERAL_REVENUE</th>\n",
              "      <th>STATE_REVENUE</th>\n",
              "      <th>LOCAL_REVENUE</th>\n",
              "      <th>TOTAL_EXPENDITURE</th>\n",
              "      <th>INSTRUCTION_EXPENDITURE</th>\n",
              "      <th>SUPPORT_SERVICES_EXPENDITURE</th>\n",
              "      <th>OTHER_EXPENDITURE</th>\n",
              "      <th>CAPITAL_OUTLAY_EXPENDITURE</th>\n",
              "      <th>GRADES_PK_G</th>\n",
              "      <th>GRADES_KG_G</th>\n",
              "      <th>GRADES_4_G</th>\n",
              "      <th>GRADES_8_G</th>\n",
              "      <th>GRADES_12_G</th>\n",
              "      <th>GRADES_1_8_G</th>\n",
              "      <th>GRADES_9_12_G</th>\n",
              "      <th>GRADES_ALL_G</th>\n",
              "      <th>AVG_MATH_4_SCORE</th>\n",
              "      <th>AVG_MATH_8_SCORE</th>\n",
              "      <th>AVG_READING_4_SCORE</th>\n",
              "      <th>AVG_READING_8_SCORE</th>\n",
              "      <th>avg_score</th>\n",
              "    </tr>\n",
              "  </thead>\n",
              "  <tbody>\n",
              "    <tr>\n",
              "      <th>209</th>\n",
              "      <td>1996_ALABAMA</td>\n",
              "      <td>ALABAMA</td>\n",
              "      <td>1996</td>\n",
              "      <td>735912.0</td>\n",
              "      <td>3365113.0</td>\n",
              "      <td>334858.0</td>\n",
              "      <td>2138717.0</td>\n",
              "      <td>891538.0</td>\n",
              "      <td>3572283.0</td>\n",
              "      <td>1987018.0</td>\n",
              "      <td>935115.0</td>\n",
              "      <td>322883.0</td>\n",
              "      <td>286699.0</td>\n",
              "      <td>9633.0</td>\n",
              "      <td>60949.0</td>\n",
              "      <td>57098.0</td>\n",
              "      <td>58305.0</td>\n",
              "      <td>42510.0</td>\n",
              "      <td>469370.0</td>\n",
              "      <td>207980.0</td>\n",
              "      <td>686983.0</td>\n",
              "      <td>211.646974</td>\n",
              "      <td>256.594863</td>\n",
              "      <td>210.920767</td>\n",
              "      <td>260.276441</td>\n",
              "      <td>235.106342</td>\n",
              "    </tr>\n",
              "    <tr>\n",
              "      <th>211</th>\n",
              "      <td>1996_ARIZONA</td>\n",
              "      <td>ARIZONA</td>\n",
              "      <td>1996</td>\n",
              "      <td>764681.0</td>\n",
              "      <td>4143304.0</td>\n",
              "      <td>378917.0</td>\n",
              "      <td>1798363.0</td>\n",
              "      <td>1966024.0</td>\n",
              "      <td>4391555.0</td>\n",
              "      <td>1860007.0</td>\n",
              "      <td>1193260.0</td>\n",
              "      <td>220650.0</td>\n",
              "      <td>877190.0</td>\n",
              "      <td>4495.0</td>\n",
              "      <td>64613.0</td>\n",
              "      <td>62793.0</td>\n",
              "      <td>60514.0</td>\n",
              "      <td>42041.0</td>\n",
              "      <td>511925.0</td>\n",
              "      <td>210289.0</td>\n",
              "      <td>726709.0</td>\n",
              "      <td>217.575940</td>\n",
              "      <td>267.874834</td>\n",
              "      <td>206.529788</td>\n",
              "      <td>263.283638</td>\n",
              "      <td>238.321404</td>\n",
              "    </tr>\n",
              "    <tr>\n",
              "      <th>212</th>\n",
              "      <td>1996_ARKANSAS</td>\n",
              "      <td>ARKANSAS</td>\n",
              "      <td>1996</td>\n",
              "      <td>452907.0</td>\n",
              "      <td>2183384.0</td>\n",
              "      <td>192152.0</td>\n",
              "      <td>1296247.0</td>\n",
              "      <td>694985.0</td>\n",
              "      <td>2297381.0</td>\n",
              "      <td>1264275.0</td>\n",
              "      <td>636106.0</td>\n",
              "      <td>127007.0</td>\n",
              "      <td>203555.0</td>\n",
              "      <td>1980.0</td>\n",
              "      <td>36442.0</td>\n",
              "      <td>33855.0</td>\n",
              "      <td>37064.0</td>\n",
              "      <td>27613.0</td>\n",
              "      <td>283883.0</td>\n",
              "      <td>131997.0</td>\n",
              "      <td>417860.0</td>\n",
              "      <td>215.846436</td>\n",
              "      <td>261.652745</td>\n",
              "      <td>208.837716</td>\n",
              "      <td>271.834590</td>\n",
              "      <td>240.773675</td>\n",
              "    </tr>\n",
              "    <tr>\n",
              "      <th>213</th>\n",
              "      <td>1996_CALIFORNIA</td>\n",
              "      <td>CALIFORNIA</td>\n",
              "      <td>1996</td>\n",
              "      <td>5460484.0</td>\n",
              "      <td>31282981.0</td>\n",
              "      <td>2603882.0</td>\n",
              "      <td>17061474.0</td>\n",
              "      <td>11617625.0</td>\n",
              "      <td>31561692.0</td>\n",
              "      <td>16880730.0</td>\n",
              "      <td>9222569.0</td>\n",
              "      <td>2362407.0</td>\n",
              "      <td>2580639.0</td>\n",
              "      <td>73233.0</td>\n",
              "      <td>469965.0</td>\n",
              "      <td>435217.0</td>\n",
              "      <td>406456.0</td>\n",
              "      <td>298669.0</td>\n",
              "      <td>3516572.0</td>\n",
              "      <td>1525618.0</td>\n",
              "      <td>5115423.0</td>\n",
              "      <td>209.129083</td>\n",
              "      <td>262.772478</td>\n",
              "      <td>201.912591</td>\n",
              "      <td>269.197451</td>\n",
              "      <td>234.719834</td>\n",
              "    </tr>\n",
              "    <tr>\n",
              "      <th>214</th>\n",
              "      <td>1996_COLORADO</td>\n",
              "      <td>COLORADO</td>\n",
              "      <td>1996</td>\n",
              "      <td>655679.0</td>\n",
              "      <td>3891203.0</td>\n",
              "      <td>194998.0</td>\n",
              "      <td>1664676.0</td>\n",
              "      <td>2031529.0</td>\n",
              "      <td>4075165.0</td>\n",
              "      <td>2052264.0</td>\n",
              "      <td>1127563.0</td>\n",
              "      <td>143767.0</td>\n",
              "      <td>588209.0</td>\n",
              "      <td>12520.0</td>\n",
              "      <td>50707.0</td>\n",
              "      <td>52524.0</td>\n",
              "      <td>52269.0</td>\n",
              "      <td>37179.0</td>\n",
              "      <td>423510.0</td>\n",
              "      <td>185700.0</td>\n",
              "      <td>621730.0</td>\n",
              "      <td>225.805858</td>\n",
              "      <td>275.608214</td>\n",
              "      <td>221.653243</td>\n",
              "      <td>268.168154</td>\n",
              "      <td>247.750273</td>\n",
              "    </tr>\n",
              "  </tbody>\n",
              "</table>\n",
              "</div>"
            ],
            "text/plain": [
              "         PRIMARY_KEY       STATE  ...  AVG_READING_8_SCORE   avg_score\n",
              "209     1996_ALABAMA     ALABAMA  ...           260.276441  235.106342\n",
              "211     1996_ARIZONA     ARIZONA  ...           263.283638  238.321404\n",
              "212    1996_ARKANSAS    ARKANSAS  ...           271.834590  240.773675\n",
              "213  1996_CALIFORNIA  CALIFORNIA  ...           269.197451  234.719834\n",
              "214    1996_COLORADO    COLORADO  ...           268.168154  247.750273\n",
              "\n",
              "[5 rows x 26 columns]"
            ]
          },
          "metadata": {
            "tags": []
          },
          "execution_count": 127
        }
      ]
    },
    {
      "cell_type": "markdown",
      "metadata": {
        "id": "VFqOtb25lHrK"
      },
      "source": [
        "2. What are the correlations between this newly created score variable and the expenditure types? Which one of the expenditure types is more correlated than the others?\n"
      ]
    },
    {
      "cell_type": "code",
      "metadata": {
        "colab": {
          "base_uri": "https://localhost:8080/",
          "height": 255
        },
        "id": "Nd8lLQY19XgB",
        "outputId": "c4c36446-02e2-45ca-8636-840d22c382af"
      },
      "source": [
        "ed[[\"avg_score\",\"TOTAL_EXPENDITURE\",\"INSTRUCTION_EXPENDITURE\", \"SUPPORT_SERVICES_EXPENDITURE\", \"OTHER_EXPENDITURE\", \"CAPITAL_OUTLAY_EXPENDITURE\"]].corr()"
      ],
      "execution_count": null,
      "outputs": [
        {
          "output_type": "execute_result",
          "data": {
            "text/html": [
              "<div>\n",
              "<style scoped>\n",
              "    .dataframe tbody tr th:only-of-type {\n",
              "        vertical-align: middle;\n",
              "    }\n",
              "\n",
              "    .dataframe tbody tr th {\n",
              "        vertical-align: top;\n",
              "    }\n",
              "\n",
              "    .dataframe thead th {\n",
              "        text-align: right;\n",
              "    }\n",
              "</style>\n",
              "<table border=\"1\" class=\"dataframe\">\n",
              "  <thead>\n",
              "    <tr style=\"text-align: right;\">\n",
              "      <th></th>\n",
              "      <th>avg_score</th>\n",
              "      <th>TOTAL_EXPENDITURE</th>\n",
              "      <th>INSTRUCTION_EXPENDITURE</th>\n",
              "      <th>SUPPORT_SERVICES_EXPENDITURE</th>\n",
              "      <th>OTHER_EXPENDITURE</th>\n",
              "      <th>CAPITAL_OUTLAY_EXPENDITURE</th>\n",
              "    </tr>\n",
              "  </thead>\n",
              "  <tbody>\n",
              "    <tr>\n",
              "      <th>avg_score</th>\n",
              "      <td>1.000000</td>\n",
              "      <td>0.074155</td>\n",
              "      <td>0.087386</td>\n",
              "      <td>0.079002</td>\n",
              "      <td>0.010959</td>\n",
              "      <td>-0.005389</td>\n",
              "    </tr>\n",
              "    <tr>\n",
              "      <th>TOTAL_EXPENDITURE</th>\n",
              "      <td>0.074155</td>\n",
              "      <td>1.000000</td>\n",
              "      <td>0.990255</td>\n",
              "      <td>0.992988</td>\n",
              "      <td>0.943702</td>\n",
              "      <td>0.925784</td>\n",
              "    </tr>\n",
              "    <tr>\n",
              "      <th>INSTRUCTION_EXPENDITURE</th>\n",
              "      <td>0.087386</td>\n",
              "      <td>0.990255</td>\n",
              "      <td>1.000000</td>\n",
              "      <td>0.974399</td>\n",
              "      <td>0.902173</td>\n",
              "      <td>0.884798</td>\n",
              "    </tr>\n",
              "    <tr>\n",
              "      <th>SUPPORT_SERVICES_EXPENDITURE</th>\n",
              "      <td>0.079002</td>\n",
              "      <td>0.992988</td>\n",
              "      <td>0.974399</td>\n",
              "      <td>1.000000</td>\n",
              "      <td>0.952282</td>\n",
              "      <td>0.911245</td>\n",
              "    </tr>\n",
              "    <tr>\n",
              "      <th>OTHER_EXPENDITURE</th>\n",
              "      <td>0.010959</td>\n",
              "      <td>0.943702</td>\n",
              "      <td>0.902173</td>\n",
              "      <td>0.952282</td>\n",
              "      <td>1.000000</td>\n",
              "      <td>0.918188</td>\n",
              "    </tr>\n",
              "    <tr>\n",
              "      <th>CAPITAL_OUTLAY_EXPENDITURE</th>\n",
              "      <td>-0.005389</td>\n",
              "      <td>0.925784</td>\n",
              "      <td>0.884798</td>\n",
              "      <td>0.911245</td>\n",
              "      <td>0.918188</td>\n",
              "      <td>1.000000</td>\n",
              "    </tr>\n",
              "  </tbody>\n",
              "</table>\n",
              "</div>"
            ],
            "text/plain": [
              "                              avg_score  ...  CAPITAL_OUTLAY_EXPENDITURE\n",
              "avg_score                      1.000000  ...                   -0.005389\n",
              "TOTAL_EXPENDITURE              0.074155  ...                    0.925784\n",
              "INSTRUCTION_EXPENDITURE        0.087386  ...                    0.884798\n",
              "SUPPORT_SERVICES_EXPENDITURE   0.079002  ...                    0.911245\n",
              "OTHER_EXPENDITURE              0.010959  ...                    0.918188\n",
              "CAPITAL_OUTLAY_EXPENDITURE    -0.005389  ...                    1.000000\n",
              "\n",
              "[6 rows x 6 columns]"
            ]
          },
          "metadata": {
            "tags": []
          },
          "execution_count": 128
        }
      ]
    },
    {
      "cell_type": "code",
      "metadata": {
        "colab": {
          "base_uri": "https://localhost:8080/",
          "height": 710
        },
        "id": "eDGPGmNn73p3",
        "outputId": "0c631afe-c339-456e-e7c5-669973d90fb3"
      },
      "source": [
        "corrmat_ed = ed[[\"avg_score\",\"TOTAL_EXPENDITURE\",\"INSTRUCTION_EXPENDITURE\", \"SUPPORT_SERVICES_EXPENDITURE\", \"OTHER_EXPENDITURE\", \"CAPITAL_OUTLAY_EXPENDITURE\"]].corr()\n",
        "plt.figure(figsize=(10,10))\n",
        "\n",
        "sns.heatmap(corrmat_ed, square=True, annot=True, linewidths=.5)\n",
        "plt.title(\"correlation matrix\")\n",
        "\n",
        "plt.show()"
      ],
      "execution_count": null,
      "outputs": [
        {
          "output_type": "display_data",
          "data": {
            "image/png": "[encoded data removed]",
            "text/plain": [
              "<Figure size 720x720 with 2 Axes>"
            ]
          },
          "metadata": {
            "tags": [],
            "needs_background": "light"
          }
        }
      ]
    },
    {
      "cell_type": "markdown",
      "metadata": {
        "id": "bBFrpz6R-Oub"
      },
      "source": [
        "It seems that Instruction is the highest correlated expenditure with avg score."
      ]
    },
    {
      "cell_type": "markdown",
      "metadata": {
        "id": "jSiqurWhlJRj"
      },
      "source": [
        "3. Now, apply PCA to the four expenditure types. How much of the total variance is explained by the first component?\n"
      ]
    },
    {
      "cell_type": "code",
      "metadata": {
        "id": "qi-q9Fv3BuQv"
      },
      "source": [
        "X = StandardScaler().fit_transform(ed[[\"TOTAL_EXPENDITURE\",\"INSTRUCTION_EXPENDITURE\", \"SUPPORT_SERVICES_EXPENDITURE\", \"OTHER_EXPENDITURE\", \"CAPITAL_OUTLAY_EXPENDITURE\"]])\n",
        "\n",
        "# The NumPy covariance function assumes that variables are represented by rows,\n",
        "# not columns. So transpose `X`.\n",
        "Xt = X.T\n",
        "Cx = np.cov(Xt)"
      ],
      "execution_count": null,
      "outputs": []
    },
    {
      "cell_type": "code",
      "metadata": {
        "colab": {
          "base_uri": "https://localhost:8080/"
        },
        "id": "uTeJLs-9B8xa",
        "outputId": "28ecea20-42ae-4267-ceed-2a62ea18ee52"
      },
      "source": [
        "# Calculating eigenvalues and eigenvectors\n",
        "eig_val_cov, eig_vec_cov = np.linalg.eig(Cx)\n",
        "\n",
        "# Inspecting the eigenvalues and eigenvectors.\n",
        "for i in range(len(eig_val_cov)):\n",
        "    eigvec_cov = eig_vec_cov[:, i].T\n",
        "    print('Eigenvector {}: \\n{}'.format(i + 1, eigvec_cov))\n",
        "    print('Eigenvalue {}: {}'.format(i + 1, eig_val_cov[i]))\n",
        "    print(40 * '-')\n",
        "\n",
        "print(\n",
        "    'The proportion of total variance in the dataset explained by each',\n",
        "    'component calculated by hand\\n',\n",
        "    eig_val_cov / sum(eig_val_cov)\n",
        ")"
      ],
      "execution_count": null,
      "outputs": [
        {
          "output_type": "stream",
          "text": [
            "Eigenvector 1: \n",
            "[-0.45611663 -0.44670541 -0.45409337 -0.44311725 -0.43572721]\n",
            "Eigenvalue 1: 4.7698468319455465\n",
            "----------------------------------------\n",
            "Eigenvector 2: \n",
            "[-0.24352957 -0.52780417 -0.23633055  0.33271147  0.70396524]\n",
            "Eigenvalue 2: 0.1447012404631401\n",
            "----------------------------------------\n",
            "Eigenvector 3: \n",
            "[ 0.10311413  0.27137464 -0.15059643 -0.76751698  0.55132719]\n",
            "Eigenvalue 3: 0.08169693181396159\n",
            "----------------------------------------\n",
            "Eigenvector 4: \n",
            "[-0.84936106  0.40881984  0.31603459  0.04013105  0.09981864]\n",
            "Eigenvalue 4: 0.0005009330406010525\n",
            "----------------------------------------\n",
            "Eigenvector 5: \n",
            "[ 0.02458109 -0.53018786  0.78446793 -0.31977705  0.02548149]\n",
            "Eigenvalue 5: 0.014006750908798585\n",
            "----------------------------------------\n",
            "The proportion of total variance in the dataset explained by each component calculated by hand\n",
            " [9.51922222e-01 2.88781446e-02 1.63043233e-02 9.99716154e-05\n",
            " 2.79533870e-03]\n"
          ],
          "name": "stdout"
        }
      ]
    },
    {
      "cell_type": "code",
      "metadata": {
        "colab": {
          "base_uri": "https://localhost:8080/",
          "height": 303
        },
        "id": "PP_eCV26CFyR",
        "outputId": "f70c455c-175a-4a9a-db90-4b43de071384"
      },
      "source": [
        "# Print scree plot\n",
        "plt.plot(eig_val_cov)\n",
        "plt.show()\n",
        "\n",
        "print(eig_val_cov)"
      ],
      "execution_count": null,
      "outputs": [
        {
          "output_type": "display_data",
          "data": {
            "image/png": "[encoded data removed]",
            "text/plain": [
              "<Figure size 432x288 with 1 Axes>"
            ]
          },
          "metadata": {
            "tags": [],
            "needs_background": "light"
          }
        },
        {
          "output_type": "stream",
          "text": [
            "[4.76984683e+00 1.44701240e-01 8.16969318e-02 5.00933041e-04\n",
            " 1.40067509e-02]\n"
          ],
          "name": "stdout"
        }
      ]
    },
    {
      "cell_type": "code",
      "metadata": {
        "id": "A4o8d5XQIsMT"
      },
      "source": [
        "X = ed[[\"INSTRUCTION_EXPENDITURE\", \"SUPPORT_SERVICES_EXPENDITURE\",\n",
        "                  \"OTHER_EXPENDITURE\", \"CAPITAL_OUTLAY_EXPENDITURE\"]]\n",
        "\n",
        "X = StandardScaler().fit_transform(X)\n",
        "\n",
        "sklearn_pca = PCA(n_components=1)\n",
        "ed[\"pca_1\"] = sklearn_pca.fit_transform(X)"
      ],
      "execution_count": null,
      "outputs": []
    },
    {
      "cell_type": "markdown",
      "metadata": {
        "id": "kPFlcYW_CJDL"
      },
      "source": [
        "The first component can explain around 95% of the variance."
      ]
    },
    {
      "cell_type": "markdown",
      "metadata": {
        "id": "CtnjTkAClLXa"
      },
      "source": [
        "4. What is the correlation between the overall score variable and the first principal component?\n"
      ]
    },
    {
      "cell_type": "code",
      "metadata": {
        "colab": {
          "base_uri": "https://localhost:8080/",
          "height": 111
        },
        "id": "ITEOARjcFg9O",
        "outputId": "7bc1b1e8-ff86-4e74-db9b-c310d9783f13"
      },
      "source": [
        "ed[['pca_1','avg_score']].corr()"
      ],
      "execution_count": null,
      "outputs": [
        {
          "output_type": "execute_result",
          "data": {
            "text/html": [
              "<div>\n",
              "<style scoped>\n",
              "    .dataframe tbody tr th:only-of-type {\n",
              "        vertical-align: middle;\n",
              "    }\n",
              "\n",
              "    .dataframe tbody tr th {\n",
              "        vertical-align: top;\n",
              "    }\n",
              "\n",
              "    .dataframe thead th {\n",
              "        text-align: right;\n",
              "    }\n",
              "</style>\n",
              "<table border=\"1\" class=\"dataframe\">\n",
              "  <thead>\n",
              "    <tr style=\"text-align: right;\">\n",
              "      <th></th>\n",
              "      <th>pca_1</th>\n",
              "      <th>avg_score</th>\n",
              "    </tr>\n",
              "  </thead>\n",
              "  <tbody>\n",
              "    <tr>\n",
              "      <th>pca_1</th>\n",
              "      <td>1.000000</td>\n",
              "      <td>0.044596</td>\n",
              "    </tr>\n",
              "    <tr>\n",
              "      <th>avg_score</th>\n",
              "      <td>0.044596</td>\n",
              "      <td>1.000000</td>\n",
              "    </tr>\n",
              "  </tbody>\n",
              "</table>\n",
              "</div>"
            ],
            "text/plain": [
              "              pca_1  avg_score\n",
              "pca_1      1.000000   0.044596\n",
              "avg_score  0.044596   1.000000"
            ]
          },
          "metadata": {
            "tags": []
          },
          "execution_count": 134
        }
      ]
    },
    {
      "cell_type": "markdown",
      "metadata": {
        "id": "zRsE5rwOFm8v"
      },
      "source": [
        "It says that the correlation between the two is around 0.045"
      ]
    },
    {
      "cell_type": "markdown",
      "metadata": {
        "id": "ZjEMpZfTlNDP"
      },
      "source": [
        "5. If you were to choose the best variables for your model, would you prefer using the first principal component instead of the expenditure variables? Why?"
      ]
    },
    {
      "cell_type": "markdown",
      "metadata": {
        "id": "rijCIJYmJWE5"
      },
      "source": [
        "The first principal component has a much lower correlation than support, instruction, and total expenditure when looking at average score. It would be better to use any of those three, specifically instruction which has the highest correlation. This PCA didn't work well because all of the expenditures, as we saw above, are highly correlated with eachother."
      ]
    },
    {
      "cell_type": "code",
      "metadata": {
        "colab": {
          "base_uri": "https://localhost:8080/"
        },
        "id": "q5rd4Fs5KCGW",
        "outputId": "1d3c77c2-6b8b-4ea6-ddc5-39c6bbe21b8d"
      },
      "source": [
        "ed2[[\"GRADES_4_G\",\"GRADES_8_G\"]].sum()[0]-ed2[[\"GRADES_4_G\",\"GRADES_8_G\"]].sum()[1]"
      ],
      "execution_count": null,
      "outputs": [
        {
          "output_type": "execute_result",
          "data": {
            "text/plain": [
              "364571.0"
            ]
          },
          "metadata": {
            "tags": []
          },
          "execution_count": 139
        }
      ]
    },
    {
      "cell_type": "code",
      "metadata": {
        "id": "lVswLKz_Kcvi"
      },
      "source": [
        ""
      ],
      "execution_count": null,
      "outputs": []
    }
  ]
}